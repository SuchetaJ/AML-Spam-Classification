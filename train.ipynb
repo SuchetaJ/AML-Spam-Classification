{
 "cells": [
  {
   "cell_type": "code",
   "execution_count": 1,
   "id": "3d2f95c3",
   "metadata": {},
   "outputs": [],
   "source": [
    "#importing the required libraries\n",
    "import pandas as pd\n",
    "from sklearn.feature_extraction.text import TfidfVectorizer, CountVectorizer\n",
    "import matplotlib.pyplot as plt\n",
    "from sklearn.naive_bayes import MultinomialNB\n",
    "from sklearn import metrics\n",
    "import numpy as np\n",
    "import pandas as pd\n",
    "import seaborn as sns\n",
    "import matplotlib.pyplot as plt"
   ]
  },
  {
   "cell_type": "code",
   "execution_count": 2,
   "id": "497bdc8c",
   "metadata": {},
   "outputs": [],
   "source": [
    "#loading the dataset\n",
    "train_df = pd.read_csv(\"train.csv\")\n",
    "val_df = pd.read_csv(\"validation.csv\")\n",
    "test_df = pd.read_csv(\"test.csv\")\n",
    "\n",
    "#splitting the datframe into X and y\n",
    "X_train = train_df['Message']\n",
    "y_train = train_df['Label']\n",
    "X_val = val_df['Message']\n",
    "y_val = val_df['Label']\n",
    "X_test = test_df['Message']\n",
    "y_test = test_df['Label']"
   ]
  },
  {
   "cell_type": "code",
   "execution_count": 3,
   "id": "7429b196",
   "metadata": {},
   "outputs": [
    {
     "data": {
      "text/plain": [
       "<3342x6674 sparse matrix of type '<class 'numpy.float64'>'\n",
       "\twith 44354 stored elements in Compressed Sparse Row format>"
      ]
     },
     "execution_count": 3,
     "metadata": {},
     "output_type": "execute_result"
    }
   ],
   "source": [
    "# get tf-idf values of training data\n",
    "\n",
    "tfidf = TfidfVectorizer()\n",
    "\n",
    "train_tfidf = tfidf.fit_transform(X_train)\n",
    "train_tfidf"
   ]
  },
  {
   "cell_type": "code",
   "execution_count": 4,
   "id": "2852dbcc",
   "metadata": {},
   "outputs": [
    {
     "data": {
      "text/plain": [
       "<1115x6674 sparse matrix of type '<class 'numpy.float64'>'\n",
       "\twith 13927 stored elements in Compressed Sparse Row format>"
      ]
     },
     "execution_count": 4,
     "metadata": {},
     "output_type": "execute_result"
    }
   ],
   "source": [
    "#get the tf-idf values of testing data\n",
    "test_tfidf = tfidf.transform(X_test)\n",
    "test_tfidf"
   ]
  },
  {
   "cell_type": "code",
   "execution_count": 5,
   "id": "42407017",
   "metadata": {},
   "outputs": [
    {
     "data": {
      "text/plain": [
       "<1115x6674 sparse matrix of type '<class 'numpy.float64'>'\n",
       "\twith 13535 stored elements in Compressed Sparse Row format>"
      ]
     },
     "execution_count": 5,
     "metadata": {},
     "output_type": "execute_result"
    }
   ],
   "source": [
    "#get the tf-idf values of validation data\n",
    "val_tfidf = tfidf.transform(X_val)\n",
    "val_tfidf"
   ]
  },
  {
   "cell_type": "markdown",
   "id": "e472cb27",
   "metadata": {},
   "source": [
    "## Applying Naive Bayes"
   ]
  },
  {
   "cell_type": "code",
   "execution_count": 6,
   "id": "74af8dee",
   "metadata": {},
   "outputs": [
    {
     "name": "stdout",
     "output_type": "stream",
     "text": [
      "The accuracy score of Naive Bayes is :  0.9587443946188341\n",
      "              precision    recall  f1-score   support\n",
      "\n",
      "         Ham       0.95      1.00      0.98       968\n",
      "        Spam       1.00      0.69      0.81       147\n",
      "\n",
      "    accuracy                           0.96      1115\n",
      "   macro avg       0.98      0.84      0.90      1115\n",
      "weighted avg       0.96      0.96      0.96      1115\n",
      "\n",
      "[[968   0]\n",
      " [ 46 101]]\n"
     ]
    }
   ],
   "source": [
    "#use Naive Bayes classifier to fit the training data\n",
    "naive_bayes_classifier = MultinomialNB()\n",
    "naive_bayes_classifier.fit(train_tfidf, y_train)\n",
    "\n",
    "#predict the results on test data\n",
    "y_pred = naive_bayes_classifier.predict(test_tfidf)\n",
    "\n",
    "#accuracy score of Naive Bayes\n",
    "score1 = metrics.accuracy_score(y_test, y_pred)\n",
    "print(\"The accuracy score of Naive Bayes is : \",score1)\n",
    "\n",
    "#Confusion matrix of Naive Bayes\n",
    "\n",
    "print(metrics.classification_report(y_test, y_pred, target_names=['Ham', 'Spam']))\n",
    "print(metrics.confusion_matrix(test_df[\"Label\"], y_pred))"
   ]
  },
  {
   "cell_type": "markdown",
   "id": "433951d3",
   "metadata": {},
   "source": [
    "## Applying SVM"
   ]
  },
  {
   "cell_type": "code",
   "execution_count": 7,
   "id": "d3b2f692",
   "metadata": {},
   "outputs": [
    {
     "name": "stdout",
     "output_type": "stream",
     "text": [
      "The accuracy score of SVM is :  0.9847533632286996\n",
      "              precision    recall  f1-score   support\n",
      "\n",
      "         Ham       0.98      1.00      0.99       968\n",
      "        Spam       1.00      0.88      0.94       147\n",
      "\n",
      "    accuracy                           0.98      1115\n",
      "   macro avg       0.99      0.94      0.96      1115\n",
      "weighted avg       0.99      0.98      0.98      1115\n",
      "\n",
      "[[968   0]\n",
      " [ 17 130]]\n"
     ]
    }
   ],
   "source": [
    "from sklearn import svm\n",
    "\n",
    "#fitting SVM\n",
    "clf = svm.SVC()\n",
    "clf.fit(train_tfidf,y_train)\n",
    "y_pred_svm = clf.predict(test_tfidf)\n",
    "\n",
    "#accuracy score of SVM\n",
    "score2 = metrics.accuracy_score(y_test, y_pred_svm)\n",
    "print(\"The accuracy score of SVM is : \",score2)\n",
    "\n",
    "#Confusion matrix of SVM\n",
    "\n",
    "print(metrics.classification_report(y_test, y_pred_svm, target_names=['Ham', 'Spam']))\n",
    "print(metrics.confusion_matrix(test_df[\"Label\"], y_pred_svm))"
   ]
  },
  {
   "cell_type": "markdown",
   "id": "8141c154",
   "metadata": {},
   "source": [
    "#### Hyperparameter Tuning for SVM"
   ]
  },
  {
   "cell_type": "code",
   "execution_count": 8,
   "id": "a23fadb5",
   "metadata": {},
   "outputs": [
    {
     "name": "stdout",
     "output_type": "stream",
     "text": [
      "Fitting 5 folds for each of 8 candidates, totalling 40 fits\n",
      "[CV 1/5] END ..............C=0.1, kernel=linear;, score=0.897 total time=   0.2s\n",
      "[CV 2/5] END ..............C=0.1, kernel=linear;, score=0.895 total time=   0.2s\n",
      "[CV 3/5] END ..............C=0.1, kernel=linear;, score=0.894 total time=   0.2s\n",
      "[CV 4/5] END ..............C=0.1, kernel=linear;, score=0.894 total time=   0.2s\n",
      "[CV 5/5] END ..............C=0.1, kernel=linear;, score=0.895 total time=   0.2s\n",
      "[CV 1/5] END .................C=0.1, kernel=rbf;, score=0.857 total time=   0.4s\n",
      "[CV 2/5] END .................C=0.1, kernel=rbf;, score=0.857 total time=   0.4s\n",
      "[CV 3/5] END .................C=0.1, kernel=rbf;, score=0.858 total time=   0.4s\n",
      "[CV 4/5] END .................C=0.1, kernel=rbf;, score=0.858 total time=   0.4s\n",
      "[CV 5/5] END .................C=0.1, kernel=rbf;, score=0.858 total time=   0.4s\n",
      "[CV 1/5] END ................C=1, kernel=linear;, score=0.966 total time=   0.2s\n",
      "[CV 2/5] END ................C=1, kernel=linear;, score=0.982 total time=   0.2s\n",
      "[CV 3/5] END ................C=1, kernel=linear;, score=0.978 total time=   0.2s\n",
      "[CV 4/5] END ................C=1, kernel=linear;, score=0.984 total time=   0.2s\n",
      "[CV 5/5] END ................C=1, kernel=linear;, score=0.982 total time=   0.2s\n",
      "[CV 1/5] END ...................C=1, kernel=rbf;, score=0.955 total time=   0.6s\n",
      "[CV 2/5] END ...................C=1, kernel=rbf;, score=0.972 total time=   0.6s\n",
      "[CV 3/5] END ...................C=1, kernel=rbf;, score=0.967 total time=   0.6s\n",
      "[CV 4/5] END ...................C=1, kernel=rbf;, score=0.973 total time=   0.6s\n",
      "[CV 5/5] END ...................C=1, kernel=rbf;, score=0.967 total time=   0.6s\n",
      "[CV 1/5] END ...............C=10, kernel=linear;, score=0.969 total time=   0.2s\n",
      "[CV 2/5] END ...............C=10, kernel=linear;, score=0.982 total time=   0.2s\n",
      "[CV 3/5] END ...............C=10, kernel=linear;, score=0.978 total time=   0.2s\n",
      "[CV 4/5] END ...............C=10, kernel=linear;, score=0.990 total time=   0.2s\n",
      "[CV 5/5] END ...............C=10, kernel=linear;, score=0.978 total time=   0.2s\n",
      "[CV 1/5] END ..................C=10, kernel=rbf;, score=0.963 total time=   0.6s\n",
      "[CV 2/5] END ..................C=10, kernel=rbf;, score=0.976 total time=   0.7s\n",
      "[CV 3/5] END ..................C=10, kernel=rbf;, score=0.970 total time=   0.6s\n",
      "[CV 4/5] END ..................C=10, kernel=rbf;, score=0.979 total time=   0.6s\n",
      "[CV 5/5] END ..................C=10, kernel=rbf;, score=0.975 total time=   0.6s\n",
      "[CV 1/5] END ..............C=100, kernel=linear;, score=0.969 total time=   0.2s\n",
      "[CV 2/5] END ..............C=100, kernel=linear;, score=0.981 total time=   0.2s\n",
      "[CV 3/5] END ..............C=100, kernel=linear;, score=0.978 total time=   0.2s\n",
      "[CV 4/5] END ..............C=100, kernel=linear;, score=0.990 total time=   0.2s\n",
      "[CV 5/5] END ..............C=100, kernel=linear;, score=0.978 total time=   0.2s\n",
      "[CV 1/5] END .................C=100, kernel=rbf;, score=0.963 total time=   0.6s\n",
      "[CV 2/5] END .................C=100, kernel=rbf;, score=0.976 total time=   0.6s\n",
      "[CV 3/5] END .................C=100, kernel=rbf;, score=0.970 total time=   0.6s\n",
      "[CV 4/5] END .................C=100, kernel=rbf;, score=0.979 total time=   0.6s\n",
      "[CV 5/5] END .................C=100, kernel=rbf;, score=0.975 total time=   0.6s\n"
     ]
    }
   ],
   "source": [
    "from sklearn.model_selection import GridSearchCV\n",
    "param_grid={\"C\":[0.1, 1, 10, 100], \"kernel\":(\"linear\", \"rbf\")}\n",
    "grid= GridSearchCV(clf, param_grid, refit=True, verbose=3)\n",
    "grid.fit(train_tfidf,y_train)\n",
    "y_pred_grid = grid.predict(val_tfidf)"
   ]
  },
  {
   "cell_type": "code",
   "execution_count": 9,
   "id": "bdd37b01",
   "metadata": {},
   "outputs": [
    {
     "name": "stdout",
     "output_type": "stream",
     "text": [
      "The accuracy score of SVM is :  0.9928251121076234\n",
      "              precision    recall  f1-score   support\n",
      "\n",
      "         Ham       0.99      1.00      1.00       992\n",
      "        Spam       0.99      0.94      0.97       123\n",
      "\n",
      "    accuracy                           0.99      1115\n",
      "   macro avg       0.99      0.97      0.98      1115\n",
      "weighted avg       0.99      0.99      0.99      1115\n",
      "\n",
      "[[991   1]\n",
      " [  7 116]]\n"
     ]
    }
   ],
   "source": [
    "#accuracy score of SVM\n",
    "score2 = metrics.accuracy_score(y_val, y_pred_grid)\n",
    "print(\"The accuracy score of SVM is : \",score2)\n",
    "\n",
    "#Confusion matrix of SVM\n",
    "\n",
    "print(metrics.classification_report(y_val, y_pred_grid, target_names=['Ham', 'Spam']))\n",
    "print(metrics.confusion_matrix(val_df[\"Label\"], y_pred_grid))"
   ]
  },
  {
   "cell_type": "code",
   "execution_count": 10,
   "id": "81bfb3a6",
   "metadata": {},
   "outputs": [
    {
     "data": {
      "text/plain": [
       "{'C': 10, 'kernel': 'linear'}"
      ]
     },
     "execution_count": 10,
     "metadata": {},
     "output_type": "execute_result"
    }
   ],
   "source": [
    "grid.best_params_"
   ]
  },
  {
   "cell_type": "code",
   "execution_count": 11,
   "id": "bae1fb98",
   "metadata": {},
   "outputs": [
    {
     "name": "stdout",
     "output_type": "stream",
     "text": [
      "The accuracy score of SVM is :  0.9910313901345291\n",
      "              precision    recall  f1-score   support\n",
      "\n",
      "         Ham       0.99      1.00      0.99       968\n",
      "        Spam       0.98      0.95      0.97       147\n",
      "\n",
      "    accuracy                           0.99      1115\n",
      "   macro avg       0.99      0.97      0.98      1115\n",
      "weighted avg       0.99      0.99      0.99      1115\n",
      "\n",
      "[[965   3]\n",
      " [  7 140]]\n"
     ]
    }
   ],
   "source": [
    "#fitting SVM after hyperparameter tuning\n",
    "clf = svm.SVC(C=10, kernel ='linear')\n",
    "clf.fit(train_tfidf,y_train)\n",
    "y_pred_svm = clf.predict(test_tfidf)\n",
    "\n",
    "#accuracy score of SVM\n",
    "score2 = metrics.accuracy_score(y_test, y_pred_svm)\n",
    "print(\"The accuracy score of SVM is : \",score2)\n",
    "\n",
    "#Confusion matrix of SVM\n",
    "\n",
    "print(metrics.classification_report(y_test, y_pred_svm, target_names=['Ham', 'Spam']))\n",
    "print(metrics.confusion_matrix(test_df[\"Label\"], y_pred_svm))"
   ]
  },
  {
   "cell_type": "markdown",
   "id": "c4cade37",
   "metadata": {},
   "source": [
    "## Neural Network"
   ]
  },
  {
   "cell_type": "code",
   "execution_count": 12,
   "id": "b02ad678",
   "metadata": {},
   "outputs": [],
   "source": [
    "#Importing the required libraries\n",
    "import tensorflow as tf\n",
    "from tensorflow.keras.preprocessing.text import Tokenizer\n",
    "from tensorflow.keras.preprocessing.sequence import pad_sequences\n",
    "from tensorflow.keras.callbacks import EarlyStopping\n",
    "from tensorflow.keras.models import Sequential\n",
    "from tensorflow.keras.layers import Embedding, GlobalAveragePooling1D, Dense, Dropout, LSTM, Bidirectional"
   ]
  },
  {
   "cell_type": "code",
   "execution_count": 13,
   "id": "b4a7bcb0",
   "metadata": {},
   "outputs": [],
   "source": [
    "# Defining pre-processing hyperparameters\n",
    "max_len = 50 \n",
    "trunc_type = \"post\" \n",
    "padding_type = \"post\" \n",
    "oov_tok = \"<OOV>\" \n",
    "vocab_size = 500\n",
    "embeding_dim = 16\n",
    "n_dense = 24\n",
    "\n",
    "#Tokenizing training data\n",
    "tokenizer = Tokenizer(500)\n",
    "tokenizer.fit_on_texts(X_train)"
   ]
  },
  {
   "cell_type": "code",
   "execution_count": 14,
   "id": "11ea7fc1",
   "metadata": {},
   "outputs": [],
   "source": [
    "# Sequencing and padding on training and testing \n",
    "train_seq = tokenizer.texts_to_sequences(X_train)\n",
    "train_pad = pad_sequences(train_seq, maxlen = max_len)\n",
    "val_seq = tokenizer.texts_to_sequences(X_val)\n",
    "val_pad = pad_sequences(val_seq, maxlen = max_len)\n",
    "test_seq = tokenizer.texts_to_sequences(X_test)\n",
    "test_pad = pad_sequences(test_seq, maxlen = max_len)"
   ]
  },
  {
   "cell_type": "code",
   "execution_count": 15,
   "id": "25b2e18a",
   "metadata": {},
   "outputs": [],
   "source": [
    "#Creating the neural network\n",
    "model = Sequential()\n",
    "model.add(Embedding(vocab_size, embeding_dim, input_length=max_len))\n",
    "model.add(GlobalAveragePooling1D())\n",
    "model.add(Dense(24, activation='relu'))\n",
    "model.add(Dense(1, activation='sigmoid'))"
   ]
  },
  {
   "cell_type": "code",
   "execution_count": 16,
   "id": "eb6c1261",
   "metadata": {},
   "outputs": [
    {
     "name": "stdout",
     "output_type": "stream",
     "text": [
      "Epoch 1/30\n",
      "105/105 [==============================] - 1s 3ms/step - loss: 0.5397 - accuracy: 0.8573 - val_loss: 0.3483 - val_accuracy: 0.8897\n",
      "Epoch 2/30\n",
      "105/105 [==============================] - 0s 2ms/step - loss: 0.3593 - accuracy: 0.8573 - val_loss: 0.2884 - val_accuracy: 0.8897\n",
      "Epoch 3/30\n",
      "105/105 [==============================] - 0s 2ms/step - loss: 0.3032 - accuracy: 0.8588 - val_loss: 0.2206 - val_accuracy: 0.8987\n",
      "Epoch 4/30\n",
      "105/105 [==============================] - 0s 2ms/step - loss: 0.2014 - accuracy: 0.9159 - val_loss: 0.1355 - val_accuracy: 0.9659\n",
      "Epoch 5/30\n",
      "105/105 [==============================] - 0s 2ms/step - loss: 0.1269 - accuracy: 0.9587 - val_loss: 0.0866 - val_accuracy: 0.9776\n",
      "Epoch 6/30\n",
      "105/105 [==============================] - 0s 2ms/step - loss: 0.0927 - accuracy: 0.9719 - val_loss: 0.0682 - val_accuracy: 0.9830\n",
      "Epoch 7/30\n",
      "105/105 [==============================] - 0s 2ms/step - loss: 0.0760 - accuracy: 0.9779 - val_loss: 0.0573 - val_accuracy: 0.9839\n",
      "Epoch 8/30\n",
      "105/105 [==============================] - 0s 2ms/step - loss: 0.0660 - accuracy: 0.9806 - val_loss: 0.0509 - val_accuracy: 0.9848\n",
      "Epoch 9/30\n",
      "105/105 [==============================] - 0s 2ms/step - loss: 0.0596 - accuracy: 0.9817 - val_loss: 0.0483 - val_accuracy: 0.9857\n",
      "Epoch 10/30\n",
      "105/105 [==============================] - 0s 2ms/step - loss: 0.0546 - accuracy: 0.9832 - val_loss: 0.0472 - val_accuracy: 0.9865\n",
      "Epoch 11/30\n",
      "105/105 [==============================] - 0s 2ms/step - loss: 0.0504 - accuracy: 0.9847 - val_loss: 0.0444 - val_accuracy: 0.9892\n",
      "Epoch 12/30\n",
      "105/105 [==============================] - 0s 2ms/step - loss: 0.0460 - accuracy: 0.9868 - val_loss: 0.0442 - val_accuracy: 0.9883\n",
      "Epoch 13/30\n",
      "105/105 [==============================] - 0s 2ms/step - loss: 0.0444 - accuracy: 0.9868 - val_loss: 0.0487 - val_accuracy: 0.9865\n",
      "Epoch 14/30\n",
      "105/105 [==============================] - 0s 2ms/step - loss: 0.0404 - accuracy: 0.9868 - val_loss: 0.0426 - val_accuracy: 0.9883\n",
      "Epoch 15/30\n",
      "105/105 [==============================] - 0s 2ms/step - loss: 0.0382 - accuracy: 0.9874 - val_loss: 0.0428 - val_accuracy: 0.9901\n",
      "Epoch 16/30\n",
      "105/105 [==============================] - 0s 2ms/step - loss: 0.0356 - accuracy: 0.9892 - val_loss: 0.0432 - val_accuracy: 0.9892\n",
      "Epoch 17/30\n",
      "105/105 [==============================] - 0s 2ms/step - loss: 0.0327 - accuracy: 0.9898 - val_loss: 0.0462 - val_accuracy: 0.9883\n",
      "Epoch 18/30\n",
      "105/105 [==============================] - 0s 2ms/step - loss: 0.0309 - accuracy: 0.9901 - val_loss: 0.0442 - val_accuracy: 0.9883\n",
      "Epoch 19/30\n",
      "105/105 [==============================] - 0s 2ms/step - loss: 0.0298 - accuracy: 0.9901 - val_loss: 0.0498 - val_accuracy: 0.9848\n",
      "Epoch 20/30\n",
      "105/105 [==============================] - 0s 2ms/step - loss: 0.0278 - accuracy: 0.9922 - val_loss: 0.0443 - val_accuracy: 0.9892\n",
      "Epoch 21/30\n",
      "105/105 [==============================] - 0s 2ms/step - loss: 0.0268 - accuracy: 0.9913 - val_loss: 0.0461 - val_accuracy: 0.9901\n",
      "Epoch 22/30\n",
      "105/105 [==============================] - 0s 2ms/step - loss: 0.0241 - accuracy: 0.9928 - val_loss: 0.0505 - val_accuracy: 0.9857\n",
      "Epoch 23/30\n",
      "105/105 [==============================] - 0s 2ms/step - loss: 0.0225 - accuracy: 0.9931 - val_loss: 0.0471 - val_accuracy: 0.9892\n",
      "Epoch 24/30\n",
      "105/105 [==============================] - 0s 2ms/step - loss: 0.0210 - accuracy: 0.9934 - val_loss: 0.0483 - val_accuracy: 0.9883\n",
      "Epoch 25/30\n",
      "105/105 [==============================] - 0s 2ms/step - loss: 0.0199 - accuracy: 0.9937 - val_loss: 0.0478 - val_accuracy: 0.9892\n",
      "Epoch 26/30\n",
      "105/105 [==============================] - 0s 2ms/step - loss: 0.0193 - accuracy: 0.9940 - val_loss: 0.0508 - val_accuracy: 0.9874\n",
      "Epoch 27/30\n",
      "105/105 [==============================] - 0s 2ms/step - loss: 0.0177 - accuracy: 0.9949 - val_loss: 0.0487 - val_accuracy: 0.9892\n",
      "Epoch 28/30\n",
      "105/105 [==============================] - 0s 2ms/step - loss: 0.0172 - accuracy: 0.9952 - val_loss: 0.0500 - val_accuracy: 0.9883\n",
      "Epoch 29/30\n",
      "105/105 [==============================] - 0s 2ms/step - loss: 0.0159 - accuracy: 0.9952 - val_loss: 0.0538 - val_accuracy: 0.9865\n",
      "Epoch 30/30\n",
      "105/105 [==============================] - 0s 2ms/step - loss: 0.0153 - accuracy: 0.9964 - val_loss: 0.0502 - val_accuracy: 0.9892\n"
     ]
    }
   ],
   "source": [
    "# fitting the model to our data\n",
    "model.compile(loss='binary_crossentropy',optimizer='adam' ,metrics=['accuracy'])\n",
    "fit_model = model.fit(train_pad, y_train, epochs=30, validation_data=(val_pad, y_val))"
   ]
  },
  {
   "cell_type": "code",
   "execution_count": 17,
   "id": "ac4c6016",
   "metadata": {},
   "outputs": [
    {
     "name": "stdout",
     "output_type": "stream",
     "text": [
      "35/35 [==============================] - 0s 1ms/step - loss: 0.0502 - accuracy: 0.9892\n"
     ]
    },
    {
     "data": {
      "text/plain": [
       "[0.05018720403313637, 0.9892376661300659]"
      ]
     },
     "execution_count": 17,
     "metadata": {},
     "output_type": "execute_result"
    }
   ],
   "source": [
    "# Model performance on validation data \n",
    "model.evaluate(val_pad, y_val)"
   ]
  },
  {
   "cell_type": "markdown",
   "id": "9b4b79a4",
   "metadata": {},
   "source": [
    "#### Hyperparameter tuning for Neural Network"
   ]
  },
  {
   "cell_type": "code",
   "execution_count": 18,
   "id": "5fc0ea8c",
   "metadata": {},
   "outputs": [
    {
     "name": "stdout",
     "output_type": "stream",
     "text": [
      "Epoch 1/30\n",
      "105/105 [==============================] - 1s 3ms/step - loss: 0.0146 - accuracy: 0.9958 - val_loss: 0.0512 - val_accuracy: 0.9883\n",
      "Epoch 2/30\n",
      "105/105 [==============================] - 0s 2ms/step - loss: 0.0147 - accuracy: 0.9964 - val_loss: 0.0562 - val_accuracy: 0.9857\n",
      "Epoch 3/30\n",
      "105/105 [==============================] - 0s 2ms/step - loss: 0.0150 - accuracy: 0.9961 - val_loss: 0.0533 - val_accuracy: 0.9865\n",
      "Epoch 4/30\n",
      "105/105 [==============================] - 0s 2ms/step - loss: 0.0146 - accuracy: 0.9961 - val_loss: 0.0511 - val_accuracy: 0.9883\n",
      "Epoch 5/30\n",
      "105/105 [==============================] - 0s 2ms/step - loss: 0.0142 - accuracy: 0.9967 - val_loss: 0.0501 - val_accuracy: 0.9901\n",
      "Epoch 6/30\n",
      "105/105 [==============================] - 0s 2ms/step - loss: 0.0145 - accuracy: 0.9961 - val_loss: 0.0508 - val_accuracy: 0.9883\n",
      "Epoch 7/30\n",
      "105/105 [==============================] - 0s 2ms/step - loss: 0.0151 - accuracy: 0.9955 - val_loss: 0.0522 - val_accuracy: 0.9874\n",
      "Epoch 8/30\n",
      "105/105 [==============================] - 0s 2ms/step - loss: 0.0143 - accuracy: 0.9949 - val_loss: 0.0501 - val_accuracy: 0.9901\n",
      "Epoch 9/30\n",
      "105/105 [==============================] - 0s 2ms/step - loss: 0.0144 - accuracy: 0.9961 - val_loss: 0.0633 - val_accuracy: 0.9830\n",
      "Epoch 10/30\n",
      "105/105 [==============================] - 0s 2ms/step - loss: 0.0144 - accuracy: 0.9967 - val_loss: 0.0509 - val_accuracy: 0.9883\n",
      "Epoch 11/30\n",
      "105/105 [==============================] - 0s 2ms/step - loss: 0.0143 - accuracy: 0.9961 - val_loss: 0.0511 - val_accuracy: 0.9883\n",
      "Epoch 12/30\n",
      "105/105 [==============================] - 0s 2ms/step - loss: 0.0143 - accuracy: 0.9970 - val_loss: 0.0515 - val_accuracy: 0.9874\n",
      "Epoch 13/30\n",
      "105/105 [==============================] - 0s 2ms/step - loss: 0.0144 - accuracy: 0.9961 - val_loss: 0.0505 - val_accuracy: 0.9892\n",
      "Epoch 14/30\n",
      "105/105 [==============================] - 0s 1ms/step - loss: 0.0142 - accuracy: 0.9961 - val_loss: 0.0559 - val_accuracy: 0.9857\n",
      "Epoch 15/30\n",
      "105/105 [==============================] - 0s 2ms/step - loss: 0.0140 - accuracy: 0.9967 - val_loss: 0.0588 - val_accuracy: 0.9848\n",
      "Epoch 16/30\n",
      "105/105 [==============================] - 0s 2ms/step - loss: 0.0148 - accuracy: 0.9967 - val_loss: 0.0504 - val_accuracy: 0.9901\n",
      "Epoch 17/30\n",
      "105/105 [==============================] - 0s 2ms/step - loss: 0.0146 - accuracy: 0.9964 - val_loss: 0.0516 - val_accuracy: 0.9883\n",
      "Epoch 18/30\n",
      "105/105 [==============================] - 0s 2ms/step - loss: 0.0143 - accuracy: 0.9964 - val_loss: 0.0527 - val_accuracy: 0.9865\n",
      "Epoch 19/30\n",
      "105/105 [==============================] - 0s 2ms/step - loss: 0.0142 - accuracy: 0.9964 - val_loss: 0.0578 - val_accuracy: 0.9848\n",
      "Epoch 20/30\n",
      "105/105 [==============================] - 0s 2ms/step - loss: 0.0144 - accuracy: 0.9967 - val_loss: 0.0514 - val_accuracy: 0.9883\n",
      "Epoch 21/30\n",
      "105/105 [==============================] - 0s 2ms/step - loss: 0.0141 - accuracy: 0.9964 - val_loss: 0.0541 - val_accuracy: 0.9865\n",
      "Epoch 22/30\n",
      "105/105 [==============================] - 0s 2ms/step - loss: 0.0140 - accuracy: 0.9970 - val_loss: 0.0542 - val_accuracy: 0.9865\n",
      "Epoch 23/30\n",
      "105/105 [==============================] - 0s 2ms/step - loss: 0.0141 - accuracy: 0.9958 - val_loss: 0.0508 - val_accuracy: 0.9892\n",
      "Epoch 24/30\n",
      "105/105 [==============================] - 0s 2ms/step - loss: 0.0141 - accuracy: 0.9967 - val_loss: 0.0618 - val_accuracy: 0.9839\n",
      "Epoch 25/30\n",
      "105/105 [==============================] - 0s 1ms/step - loss: 0.0142 - accuracy: 0.9964 - val_loss: 0.0507 - val_accuracy: 0.9892\n",
      "Epoch 26/30\n",
      "105/105 [==============================] - 0s 2ms/step - loss: 0.0141 - accuracy: 0.9964 - val_loss: 0.0514 - val_accuracy: 0.9883\n",
      "Epoch 27/30\n",
      "105/105 [==============================] - 0s 2ms/step - loss: 0.0141 - accuracy: 0.9964 - val_loss: 0.0507 - val_accuracy: 0.9892\n",
      "Epoch 28/30\n",
      "105/105 [==============================] - 0s 2ms/step - loss: 0.0139 - accuracy: 0.9973 - val_loss: 0.0517 - val_accuracy: 0.9874\n",
      "Epoch 29/30\n",
      "105/105 [==============================] - 0s 2ms/step - loss: 0.0142 - accuracy: 0.9970 - val_loss: 0.0618 - val_accuracy: 0.9839\n",
      "Epoch 30/30\n",
      "105/105 [==============================] - 0s 2ms/step - loss: 0.0136 - accuracy: 0.9982 - val_loss: 0.0525 - val_accuracy: 0.9874\n"
     ]
    }
   ],
   "source": [
    "#Changing the loss function\n",
    "# fitting the model on our data\n",
    "model.compile(loss='binary_crossentropy',optimizer='SGD' ,metrics=['accuracy'])\n",
    "fit_model = model.fit(train_pad, y_train, epochs=30, validation_data=(val_pad, y_val))"
   ]
  },
  {
   "cell_type": "code",
   "execution_count": 19,
   "id": "470e5f77",
   "metadata": {},
   "outputs": [
    {
     "name": "stdout",
     "output_type": "stream",
     "text": [
      "35/35 [==============================] - 0s 1ms/step - loss: 0.0525 - accuracy: 0.9874\n"
     ]
    },
    {
     "data": {
      "text/plain": [
       "[0.05253727734088898, 0.9874439239501953]"
      ]
     },
     "execution_count": 19,
     "metadata": {},
     "output_type": "execute_result"
    }
   ],
   "source": [
    "# Model performance on validation data \n",
    "model.evaluate(val_pad, y_val)"
   ]
  },
  {
   "cell_type": "code",
   "execution_count": 20,
   "id": "60ba0d24",
   "metadata": {},
   "outputs": [
    {
     "name": "stdout",
     "output_type": "stream",
     "text": [
      "Epoch 1/50\n",
      "105/105 [==============================] - 1s 2ms/step - loss: 0.0152 - accuracy: 0.9958 - val_loss: 0.0538 - val_accuracy: 0.9865\n",
      "Epoch 2/50\n",
      "105/105 [==============================] - 0s 2ms/step - loss: 0.0133 - accuracy: 0.9967 - val_loss: 0.0543 - val_accuracy: 0.9874\n",
      "Epoch 3/50\n",
      "105/105 [==============================] - 0s 2ms/step - loss: 0.0134 - accuracy: 0.9964 - val_loss: 0.0549 - val_accuracy: 0.9874\n",
      "Epoch 4/50\n",
      "105/105 [==============================] - 0s 2ms/step - loss: 0.0127 - accuracy: 0.9967 - val_loss: 0.0578 - val_accuracy: 0.9865\n",
      "Epoch 5/50\n",
      "105/105 [==============================] - 0s 2ms/step - loss: 0.0114 - accuracy: 0.9985 - val_loss: 0.0579 - val_accuracy: 0.9874\n",
      "Epoch 6/50\n",
      "105/105 [==============================] - 0s 2ms/step - loss: 0.0106 - accuracy: 0.9979 - val_loss: 0.0601 - val_accuracy: 0.9865\n",
      "Epoch 7/50\n",
      "105/105 [==============================] - 0s 2ms/step - loss: 0.0098 - accuracy: 0.9985 - val_loss: 0.0603 - val_accuracy: 0.9874\n",
      "Epoch 8/50\n",
      "105/105 [==============================] - 0s 2ms/step - loss: 0.0099 - accuracy: 0.9979 - val_loss: 0.0635 - val_accuracy: 0.9865\n",
      "Epoch 9/50\n",
      "105/105 [==============================] - 0s 2ms/step - loss: 0.0089 - accuracy: 0.9985 - val_loss: 0.0659 - val_accuracy: 0.9865\n",
      "Epoch 10/50\n",
      "105/105 [==============================] - 0s 2ms/step - loss: 0.0086 - accuracy: 0.9991 - val_loss: 0.0631 - val_accuracy: 0.9865\n",
      "Epoch 11/50\n",
      "105/105 [==============================] - 0s 2ms/step - loss: 0.0081 - accuracy: 0.9988 - val_loss: 0.0639 - val_accuracy: 0.9865\n",
      "Epoch 12/50\n",
      "105/105 [==============================] - 0s 2ms/step - loss: 0.0085 - accuracy: 0.9988 - val_loss: 0.0657 - val_accuracy: 0.9865\n",
      "Epoch 13/50\n",
      "105/105 [==============================] - 0s 2ms/step - loss: 0.0076 - accuracy: 0.9988 - val_loss: 0.0700 - val_accuracy: 0.9865\n",
      "Epoch 14/50\n",
      "105/105 [==============================] - 0s 2ms/step - loss: 0.0080 - accuracy: 0.9991 - val_loss: 0.0701 - val_accuracy: 0.9857\n",
      "Epoch 15/50\n",
      "105/105 [==============================] - 0s 2ms/step - loss: 0.0067 - accuracy: 0.9991 - val_loss: 0.0691 - val_accuracy: 0.9865\n",
      "Epoch 16/50\n",
      "105/105 [==============================] - 0s 2ms/step - loss: 0.0071 - accuracy: 0.9988 - val_loss: 0.0729 - val_accuracy: 0.9865\n",
      "Epoch 17/50\n",
      "105/105 [==============================] - 0s 2ms/step - loss: 0.0068 - accuracy: 0.9991 - val_loss: 0.0734 - val_accuracy: 0.9857\n",
      "Epoch 18/50\n",
      "105/105 [==============================] - 0s 2ms/step - loss: 0.0061 - accuracy: 0.9991 - val_loss: 0.0734 - val_accuracy: 0.9857\n",
      "Epoch 19/50\n",
      "105/105 [==============================] - 0s 2ms/step - loss: 0.0057 - accuracy: 0.9991 - val_loss: 0.0790 - val_accuracy: 0.9848\n",
      "Epoch 20/50\n",
      "105/105 [==============================] - 0s 2ms/step - loss: 0.0062 - accuracy: 0.9991 - val_loss: 0.0744 - val_accuracy: 0.9865\n",
      "Epoch 21/50\n",
      "105/105 [==============================] - 0s 2ms/step - loss: 0.0055 - accuracy: 0.9994 - val_loss: 0.0775 - val_accuracy: 0.9839\n",
      "Epoch 22/50\n",
      "105/105 [==============================] - 0s 2ms/step - loss: 0.0063 - accuracy: 0.9988 - val_loss: 0.0762 - val_accuracy: 0.9865\n",
      "Epoch 23/50\n",
      "105/105 [==============================] - 0s 2ms/step - loss: 0.0050 - accuracy: 0.9994 - val_loss: 0.0765 - val_accuracy: 0.9865\n",
      "Epoch 24/50\n",
      "105/105 [==============================] - 0s 2ms/step - loss: 0.0051 - accuracy: 0.9994 - val_loss: 0.0780 - val_accuracy: 0.9865\n",
      "Epoch 25/50\n",
      "105/105 [==============================] - 0s 2ms/step - loss: 0.0050 - accuracy: 0.9991 - val_loss: 0.0850 - val_accuracy: 0.9848\n",
      "Epoch 26/50\n",
      "105/105 [==============================] - 0s 2ms/step - loss: 0.0046 - accuracy: 0.9994 - val_loss: 0.0801 - val_accuracy: 0.9857\n",
      "Epoch 27/50\n",
      "105/105 [==============================] - 0s 2ms/step - loss: 0.0045 - accuracy: 0.9997 - val_loss: 0.0814 - val_accuracy: 0.9857\n",
      "Epoch 28/50\n",
      "105/105 [==============================] - 0s 2ms/step - loss: 0.0046 - accuracy: 0.9994 - val_loss: 0.0898 - val_accuracy: 0.9839\n",
      "Epoch 29/50\n",
      "105/105 [==============================] - 0s 2ms/step - loss: 0.0044 - accuracy: 0.9994 - val_loss: 0.0870 - val_accuracy: 0.9839\n",
      "Epoch 30/50\n",
      "105/105 [==============================] - 0s 2ms/step - loss: 0.0045 - accuracy: 0.9991 - val_loss: 0.0861 - val_accuracy: 0.9848\n",
      "Epoch 31/50\n",
      "105/105 [==============================] - 0s 2ms/step - loss: 0.0041 - accuracy: 0.9994 - val_loss: 0.0928 - val_accuracy: 0.9839\n",
      "Epoch 32/50\n",
      "105/105 [==============================] - 0s 2ms/step - loss: 0.0042 - accuracy: 0.9997 - val_loss: 0.0858 - val_accuracy: 0.9848\n",
      "Epoch 33/50\n",
      "105/105 [==============================] - 0s 2ms/step - loss: 0.0040 - accuracy: 0.9997 - val_loss: 0.0896 - val_accuracy: 0.9848\n",
      "Epoch 34/50\n",
      "105/105 [==============================] - 0s 2ms/step - loss: 0.0037 - accuracy: 0.9997 - val_loss: 0.0914 - val_accuracy: 0.9839\n",
      "Epoch 35/50\n",
      "105/105 [==============================] - 0s 2ms/step - loss: 0.0037 - accuracy: 0.9997 - val_loss: 0.0900 - val_accuracy: 0.9839\n",
      "Epoch 36/50\n",
      "105/105 [==============================] - 0s 2ms/step - loss: 0.0037 - accuracy: 0.9997 - val_loss: 0.0928 - val_accuracy: 0.9839\n",
      "Epoch 37/50\n",
      "105/105 [==============================] - 0s 2ms/step - loss: 0.0035 - accuracy: 0.9997 - val_loss: 0.0920 - val_accuracy: 0.9830\n",
      "Epoch 38/50\n",
      "105/105 [==============================] - 0s 2ms/step - loss: 0.0037 - accuracy: 0.9997 - val_loss: 0.0914 - val_accuracy: 0.9848\n",
      "Epoch 39/50\n",
      "105/105 [==============================] - 0s 2ms/step - loss: 0.0036 - accuracy: 0.9997 - val_loss: 0.0896 - val_accuracy: 0.9848\n",
      "Epoch 40/50\n",
      "105/105 [==============================] - 0s 2ms/step - loss: 0.0035 - accuracy: 0.9997 - val_loss: 0.0919 - val_accuracy: 0.9848\n",
      "Epoch 41/50\n",
      "105/105 [==============================] - 0s 2ms/step - loss: 0.0035 - accuracy: 0.9997 - val_loss: 0.0928 - val_accuracy: 0.9848\n",
      "Epoch 42/50\n",
      "105/105 [==============================] - 0s 2ms/step - loss: 0.0036 - accuracy: 0.9997 - val_loss: 0.0945 - val_accuracy: 0.9839\n",
      "Epoch 43/50\n",
      "105/105 [==============================] - 0s 2ms/step - loss: 0.0039 - accuracy: 0.9994 - val_loss: 0.0954 - val_accuracy: 0.9848\n",
      "Epoch 44/50\n",
      "105/105 [==============================] - 0s 2ms/step - loss: 0.0035 - accuracy: 0.9997 - val_loss: 0.0964 - val_accuracy: 0.9848\n",
      "Epoch 45/50\n",
      "105/105 [==============================] - 0s 2ms/step - loss: 0.0036 - accuracy: 0.9997 - val_loss: 0.0951 - val_accuracy: 0.9848\n",
      "Epoch 46/50\n",
      "105/105 [==============================] - 0s 2ms/step - loss: 0.0033 - accuracy: 0.9997 - val_loss: 0.0942 - val_accuracy: 0.9848\n",
      "Epoch 47/50\n",
      "105/105 [==============================] - 0s 2ms/step - loss: 0.0033 - accuracy: 0.9997 - val_loss: 0.0951 - val_accuracy: 0.9848\n",
      "Epoch 48/50\n",
      "105/105 [==============================] - 0s 2ms/step - loss: 0.0033 - accuracy: 0.9997 - val_loss: 0.0974 - val_accuracy: 0.9848\n",
      "Epoch 49/50\n",
      "105/105 [==============================] - 0s 2ms/step - loss: 0.0035 - accuracy: 0.9997 - val_loss: 0.1015 - val_accuracy: 0.9830\n",
      "Epoch 50/50\n",
      "105/105 [==============================] - 0s 2ms/step - loss: 0.0032 - accuracy: 0.9997 - val_loss: 0.0967 - val_accuracy: 0.9848\n",
      "35/35 [==============================] - 0s 1ms/step - loss: 0.0967 - accuracy: 0.9848\n"
     ]
    },
    {
     "data": {
      "text/plain": [
       "[0.09667690098285675, 0.9847533702850342]"
      ]
     },
     "execution_count": 20,
     "metadata": {},
     "output_type": "execute_result"
    }
   ],
   "source": [
    "# Changing the number of epochs\n",
    "\n",
    "# fitting a dense spam detector model\n",
    "model.compile(loss='binary_crossentropy',optimizer='adam' ,metrics=['accuracy'])\n",
    "fit_model = model.fit(train_pad, y_train, epochs=50, validation_data=(val_pad, y_val))\n",
    "# Model performance on validation data \n",
    "model.evaluate(val_pad, y_val)"
   ]
  },
  {
   "cell_type": "markdown",
   "id": "9aaee6e4",
   "metadata": {},
   "source": [
    "As we can see the best accuracy is observed for Adam and number of epochs 30, so we predict the model on the test data."
   ]
  },
  {
   "cell_type": "code",
   "execution_count": 21,
   "id": "dbe4b5fb",
   "metadata": {},
   "outputs": [
    {
     "name": "stdout",
     "output_type": "stream",
     "text": [
      "Epoch 1/30\n",
      "105/105 [==============================] - 1s 2ms/step - loss: 0.0031 - accuracy: 0.9997 - val_loss: 0.0687 - val_accuracy: 0.9874\n",
      "Epoch 2/30\n",
      "105/105 [==============================] - 0s 2ms/step - loss: 0.0032 - accuracy: 0.9997 - val_loss: 0.0696 - val_accuracy: 0.9874\n",
      "Epoch 3/30\n",
      "105/105 [==============================] - 0s 2ms/step - loss: 0.0033 - accuracy: 0.9997 - val_loss: 0.0699 - val_accuracy: 0.9857\n",
      "Epoch 4/30\n",
      "105/105 [==============================] - 0s 2ms/step - loss: 0.0033 - accuracy: 0.9997 - val_loss: 0.0711 - val_accuracy: 0.9865\n",
      "Epoch 5/30\n",
      "105/105 [==============================] - 0s 2ms/step - loss: 0.0032 - accuracy: 0.9997 - val_loss: 0.0711 - val_accuracy: 0.9857\n",
      "Epoch 6/30\n",
      "105/105 [==============================] - 0s 2ms/step - loss: 0.0028 - accuracy: 0.9997 - val_loss: 0.0844 - val_accuracy: 0.9812\n",
      "Epoch 7/30\n",
      "105/105 [==============================] - 0s 2ms/step - loss: 0.0037 - accuracy: 0.9997 - val_loss: 0.0711 - val_accuracy: 0.9865\n",
      "Epoch 8/30\n",
      "105/105 [==============================] - 0s 2ms/step - loss: 0.0032 - accuracy: 0.9997 - val_loss: 0.0720 - val_accuracy: 0.9874\n",
      "Epoch 9/30\n",
      "105/105 [==============================] - 0s 2ms/step - loss: 0.0031 - accuracy: 0.9997 - val_loss: 0.0745 - val_accuracy: 0.9865\n",
      "Epoch 10/30\n",
      "105/105 [==============================] - 0s 2ms/step - loss: 0.0030 - accuracy: 0.9997 - val_loss: 0.0738 - val_accuracy: 0.9865\n",
      "Epoch 11/30\n",
      "105/105 [==============================] - 0s 2ms/step - loss: 0.0030 - accuracy: 0.9997 - val_loss: 0.0730 - val_accuracy: 0.9865\n",
      "Epoch 12/30\n",
      "105/105 [==============================] - 0s 2ms/step - loss: 0.0030 - accuracy: 0.9997 - val_loss: 0.0738 - val_accuracy: 0.9874\n",
      "Epoch 13/30\n",
      "105/105 [==============================] - 0s 2ms/step - loss: 0.0030 - accuracy: 0.9997 - val_loss: 0.0718 - val_accuracy: 0.9874\n",
      "Epoch 14/30\n",
      "105/105 [==============================] - 0s 2ms/step - loss: 0.0030 - accuracy: 0.9997 - val_loss: 0.0736 - val_accuracy: 0.9883\n",
      "Epoch 15/30\n",
      "105/105 [==============================] - 0s 2ms/step - loss: 0.0030 - accuracy: 0.9997 - val_loss: 0.0757 - val_accuracy: 0.9874\n",
      "Epoch 16/30\n",
      "105/105 [==============================] - 0s 2ms/step - loss: 0.0029 - accuracy: 0.9997 - val_loss: 0.0789 - val_accuracy: 0.9848\n",
      "Epoch 17/30\n",
      "105/105 [==============================] - 0s 2ms/step - loss: 0.0029 - accuracy: 0.9997 - val_loss: 0.0779 - val_accuracy: 0.9865\n",
      "Epoch 18/30\n",
      "105/105 [==============================] - 0s 2ms/step - loss: 0.0028 - accuracy: 0.9997 - val_loss: 0.0755 - val_accuracy: 0.9883\n",
      "Epoch 19/30\n",
      "105/105 [==============================] - 0s 2ms/step - loss: 0.0029 - accuracy: 0.9997 - val_loss: 0.0776 - val_accuracy: 0.9883\n",
      "Epoch 20/30\n",
      "105/105 [==============================] - 0s 2ms/step - loss: 0.0032 - accuracy: 0.9997 - val_loss: 0.0743 - val_accuracy: 0.9883\n",
      "Epoch 21/30\n",
      "105/105 [==============================] - 0s 2ms/step - loss: 0.0030 - accuracy: 0.9997 - val_loss: 0.0771 - val_accuracy: 0.9883\n",
      "Epoch 22/30\n",
      "105/105 [==============================] - 0s 2ms/step - loss: 0.0029 - accuracy: 0.9997 - val_loss: 0.0788 - val_accuracy: 0.9874\n",
      "Epoch 23/30\n",
      "105/105 [==============================] - 0s 2ms/step - loss: 0.0027 - accuracy: 0.9997 - val_loss: 0.0964 - val_accuracy: 0.9758\n",
      "Epoch 24/30\n",
      "105/105 [==============================] - 0s 2ms/step - loss: 0.0030 - accuracy: 0.9997 - val_loss: 0.0792 - val_accuracy: 0.9874\n",
      "Epoch 25/30\n",
      "105/105 [==============================] - 0s 2ms/step - loss: 0.0028 - accuracy: 0.9997 - val_loss: 0.0791 - val_accuracy: 0.9883\n",
      "Epoch 26/30\n",
      "105/105 [==============================] - 0s 2ms/step - loss: 0.0028 - accuracy: 0.9997 - val_loss: 0.0790 - val_accuracy: 0.9892\n",
      "Epoch 27/30\n",
      "105/105 [==============================] - 0s 2ms/step - loss: 0.0029 - accuracy: 0.9997 - val_loss: 0.0802 - val_accuracy: 0.9857\n",
      "Epoch 28/30\n",
      "105/105 [==============================] - 0s 2ms/step - loss: 0.0028 - accuracy: 0.9997 - val_loss: 0.0801 - val_accuracy: 0.9883\n",
      "Epoch 29/30\n",
      "105/105 [==============================] - 0s 2ms/step - loss: 0.0028 - accuracy: 0.9997 - val_loss: 0.0808 - val_accuracy: 0.9883\n",
      "Epoch 30/30\n",
      "105/105 [==============================] - 0s 2ms/step - loss: 0.0028 - accuracy: 0.9997 - val_loss: 0.0818 - val_accuracy: 0.9865\n",
      "35/35 [==============================] - 0s 1ms/step - loss: 0.0818 - accuracy: 0.9865\n"
     ]
    }
   ],
   "source": [
    "# fitting the model \n",
    "model.compile(loss='binary_crossentropy',optimizer='adam' ,metrics=['accuracy'])\n",
    "fit_model = model.fit(train_pad, y_train, epochs=30, validation_data=(test_pad, y_test))\n",
    "\n",
    "# Model performance on test data \n",
    "results = model.evaluate(test_pad, y_test)"
   ]
  },
  {
   "cell_type": "code",
   "execution_count": 23,
   "id": "a3ca274f",
   "metadata": {},
   "outputs": [
    {
     "name": "stdout",
     "output_type": "stream",
     "text": [
      "Neural Network gives us an accuracy of : 0.9865471124649048\n"
     ]
    }
   ],
   "source": [
    "print(\"Neural Network gives us an accuracy of :\", results[1])"
   ]
  },
  {
   "cell_type": "code",
   "execution_count": null,
   "id": "695b6299",
   "metadata": {},
   "outputs": [],
   "source": []
  }
 ],
 "metadata": {
  "kernelspec": {
   "display_name": "Python 3 (ipykernel)",
   "language": "python",
   "name": "python3"
  },
  "language_info": {
   "codemirror_mode": {
    "name": "ipython",
    "version": 3
   },
   "file_extension": ".py",
   "mimetype": "text/x-python",
   "name": "python",
   "nbconvert_exporter": "python",
   "pygments_lexer": "ipython3",
   "version": "3.9.7"
  }
 },
 "nbformat": 4,
 "nbformat_minor": 5
}
