{
 "cells": [
  {
   "cell_type": "code",
   "execution_count": 68,
   "id": "7ed41c72",
   "metadata": {},
   "outputs": [],
   "source": [
    "import mlflow\n",
    "import mlflow.sklearn\n",
    "from urllib.parse import urlparse\n",
    "import mlflow.keras"
   ]
  },
  {
   "cell_type": "code",
   "execution_count": 69,
   "id": "3d2f95c3",
   "metadata": {},
   "outputs": [],
   "source": [
    "#importing the required libraries\n",
    "import pandas as pd\n",
    "from sklearn.feature_extraction.text import TfidfVectorizer, CountVectorizer\n",
    "import matplotlib.pyplot as plt\n",
    "from sklearn.naive_bayes import MultinomialNB\n",
    "from sklearn import metrics\n",
    "from sklearn.metrics import average_precision_score\n",
    "import numpy as np\n",
    "import pandas as pd\n",
    "import seaborn as sns\n",
    "import matplotlib.pyplot as plt"
   ]
  },
  {
   "cell_type": "code",
   "execution_count": 70,
   "id": "497bdc8c",
   "metadata": {},
   "outputs": [],
   "source": [
    "#loading the dataset\n",
    "train_df = pd.read_csv(\"train.csv\")\n",
    "val_df = pd.read_csv(\"validation.csv\")\n",
    "test_df = pd.read_csv(\"test.csv\")\n",
    "\n",
    "#splitting the datframe into X and y\n",
    "X_train = train_df['Message']\n",
    "y_train = train_df['Label']\n",
    "X_val = val_df['Message']\n",
    "y_val = val_df['Label']\n",
    "X_test = test_df['Message']\n",
    "y_test = test_df['Label']"
   ]
  },
  {
   "cell_type": "code",
   "execution_count": 71,
   "id": "7429b196",
   "metadata": {},
   "outputs": [
    {
     "data": {
      "text/plain": [
       "<3342x6682 sparse matrix of type '<class 'numpy.float64'>'\n",
       "\twith 44748 stored elements in Compressed Sparse Row format>"
      ]
     },
     "execution_count": 71,
     "metadata": {},
     "output_type": "execute_result"
    }
   ],
   "source": [
    "# get tf-idf values of training data\n",
    "\n",
    "tfidf = TfidfVectorizer()\n",
    "\n",
    "train_tfidf = tfidf.fit_transform(X_train)\n",
    "train_tfidf"
   ]
  },
  {
   "cell_type": "code",
   "execution_count": 72,
   "id": "2852dbcc",
   "metadata": {},
   "outputs": [
    {
     "data": {
      "text/plain": [
       "<1115x6682 sparse matrix of type '<class 'numpy.float64'>'\n",
       "\twith 13486 stored elements in Compressed Sparse Row format>"
      ]
     },
     "execution_count": 72,
     "metadata": {},
     "output_type": "execute_result"
    }
   ],
   "source": [
    "#get the tf-idf values of testing data\n",
    "test_tfidf = tfidf.transform(X_test)\n",
    "test_tfidf"
   ]
  },
  {
   "cell_type": "code",
   "execution_count": 73,
   "id": "42407017",
   "metadata": {},
   "outputs": [
    {
     "data": {
      "text/plain": [
       "<1115x6682 sparse matrix of type '<class 'numpy.float64'>'\n",
       "\twith 13584 stored elements in Compressed Sparse Row format>"
      ]
     },
     "execution_count": 73,
     "metadata": {},
     "output_type": "execute_result"
    }
   ],
   "source": [
    "#get the tf-idf values of validation data\n",
    "val_tfidf = tfidf.transform(X_val)\n",
    "val_tfidf"
   ]
  },
  {
   "cell_type": "markdown",
   "id": "e472cb27",
   "metadata": {},
   "source": [
    "## Applying Naive Bayes"
   ]
  },
  {
   "cell_type": "code",
   "execution_count": 74,
   "id": "74af8dee",
   "metadata": {},
   "outputs": [
    {
     "name": "stdout",
     "output_type": "stream",
     "text": [
      "The accuracy score of Naive Bayes is :  0.9515695067264573\n",
      "AUCPR of Naive Bayes is:  0.6810835544980325\n",
      "              precision    recall  f1-score   support\n",
      "\n",
      "         Ham       0.95      1.00      0.97       968\n",
      "        Spam       1.00      0.63      0.78       147\n",
      "\n",
      "    accuracy                           0.95      1115\n",
      "   macro avg       0.97      0.82      0.87      1115\n",
      "weighted avg       0.95      0.95      0.95      1115\n",
      "\n",
      "[[968   0]\n",
      " [ 54  93]]\n"
     ]
    }
   ],
   "source": [
    "#use Naive Bayes classifier to fit the training data\n",
    "alpha = 1\n",
    "with mlflow.start_run():\n",
    "    naive_bayes_classifier = MultinomialNB(alpha = alpha)\n",
    "    naive_bayes_classifier.fit(train_tfidf, y_train)\n",
    "\n",
    "    #predict the results on test data\n",
    "    y_pred = naive_bayes_classifier.predict(test_tfidf)\n",
    "\n",
    "    #accuracy score of Naive Bayes\n",
    "    score1 = metrics.accuracy_score(y_test, y_pred)\n",
    "    aucpr1= average_precision_score(y_test, y_pred)\n",
    "    print(\"The accuracy score of Naive Bayes is : \",score1)\n",
    "    print(\"AUCPR of Naive Bayes is: \", aucpr1)\n",
    "\n",
    "    #Confusion matrix of Naive Bayes\n",
    "\n",
    "    print(metrics.classification_report(y_test, y_pred, target_names=['Ham', 'Spam']))\n",
    "    print(metrics.confusion_matrix(test_df[\"Label\"], y_pred))\n",
    "    \n",
    "\n",
    "    mlflow.log_param(\"alpha\",alpha)\n",
    "    mlflow.log_metric(\"Accuracy\", score1)\n",
    "    mlflow.log_metric(\"AUCPR\", aucpr1)\n",
    "\n",
    "    tracking_url_type_store = urlparse(mlflow.get_tracking_uri()).scheme\n",
    "    if tracking_url_type_store != \"file\":\n",
    "\n",
    "            # Register the model\n",
    "            # There are other ways to use the Model Registry, which depends on the use case,\n",
    "            # please refer to the doc for more information:\n",
    "            # https://mlflow.org/docs/latest/model-registry.html#api-workflow\n",
    "            mlflow.sklearn.log_model(naive_bayes_classifier, \"model1\", registered_model_name=\"MultinomialNB_SMS\")\n",
    "    else:\n",
    "            mlflow.sklearn.log_model(naive_bayes_classifier, \"model1\")"
   ]
  },
  {
   "cell_type": "markdown",
   "id": "433951d3",
   "metadata": {},
   "source": [
    "## Applying SVM"
   ]
  },
  {
   "cell_type": "code",
   "execution_count": 75,
   "id": "d3b2f692",
   "metadata": {},
   "outputs": [
    {
     "name": "stdout",
     "output_type": "stream",
     "text": [
      "The accuracy score of SVM is :  0.9811659192825112\n",
      "The AUCPR of SVM is:  0.8743925303822805\n",
      "              precision    recall  f1-score   support\n",
      "\n",
      "         Ham       0.98      1.00      0.99       968\n",
      "        Spam       0.98      0.87      0.92       147\n",
      "\n",
      "    accuracy                           0.98      1115\n",
      "   macro avg       0.98      0.93      0.96      1115\n",
      "weighted avg       0.98      0.98      0.98      1115\n",
      "\n",
      "[[966   2]\n",
      " [ 19 128]]\n"
     ]
    }
   ],
   "source": [
    "from sklearn import svm\n",
    "\n",
    "clf = svm.SVC()\n",
    "clf.fit(train_tfidf,y_train)\n",
    "y_pred_svm = clf.predict(test_tfidf)\n",
    "\n",
    "#accuracy score of SVM\n",
    "score2 = metrics.accuracy_score(y_test, y_pred_svm)\n",
    "aucpr2 = average_precision_score(y_test, y_pred_svm)\n",
    "print(\"The accuracy score of SVM is : \",score2)\n",
    "print(\"The AUCPR of SVM is: \", aucpr2)\n",
    "\n",
    "#Confusion matrix of SVM\n",
    "\n",
    "print(metrics.classification_report(y_test, y_pred_svm, target_names=['Ham', 'Spam']))\n",
    "print(metrics.confusion_matrix(test_df[\"Label\"], y_pred_svm))"
   ]
  },
  {
   "cell_type": "markdown",
   "id": "8141c154",
   "metadata": {},
   "source": [
    "#### Hyperparameter Tuning for SVM"
   ]
  },
  {
   "cell_type": "code",
   "execution_count": 76,
   "id": "a23fadb5",
   "metadata": {},
   "outputs": [
    {
     "name": "stdout",
     "output_type": "stream",
     "text": [
      "Fitting 5 folds for each of 8 candidates, totalling 40 fits\n",
      "[CV 1/5] END ..............C=0.1, kernel=linear;, score=0.900 total time=   0.2s\n",
      "[CV 2/5] END ..............C=0.1, kernel=linear;, score=0.895 total time=   0.2s\n",
      "[CV 3/5] END ..............C=0.1, kernel=linear;, score=0.906 total time=   0.2s\n",
      "[CV 4/5] END ..............C=0.1, kernel=linear;, score=0.907 total time=   0.2s\n",
      "[CV 5/5] END ..............C=0.1, kernel=linear;, score=0.886 total time=   0.2s\n",
      "[CV 1/5] END .................C=0.1, kernel=rbf;, score=0.867 total time=   0.4s\n",
      "[CV 2/5] END .................C=0.1, kernel=rbf;, score=0.865 total time=   0.4s\n",
      "[CV 3/5] END .................C=0.1, kernel=rbf;, score=0.867 total time=   0.4s\n",
      "[CV 4/5] END .................C=0.1, kernel=rbf;, score=0.867 total time=   0.4s\n",
      "[CV 5/5] END .................C=0.1, kernel=rbf;, score=0.867 total time=   0.4s\n",
      "[CV 1/5] END ................C=1, kernel=linear;, score=0.981 total time=   0.2s\n",
      "[CV 2/5] END ................C=1, kernel=linear;, score=0.978 total time=   0.2s\n",
      "[CV 3/5] END ................C=1, kernel=linear;, score=0.985 total time=   0.2s\n",
      "[CV 4/5] END ................C=1, kernel=linear;, score=0.981 total time=   0.2s\n",
      "[CV 5/5] END ................C=1, kernel=linear;, score=0.970 total time=   0.2s\n",
      "[CV 1/5] END ...................C=1, kernel=rbf;, score=0.966 total time=   0.6s\n",
      "[CV 2/5] END ...................C=1, kernel=rbf;, score=0.969 total time=   0.5s\n",
      "[CV 3/5] END ...................C=1, kernel=rbf;, score=0.976 total time=   0.6s\n",
      "[CV 4/5] END ...................C=1, kernel=rbf;, score=0.979 total time=   0.6s\n",
      "[CV 5/5] END ...................C=1, kernel=rbf;, score=0.961 total time=   0.5s\n",
      "[CV 1/5] END ...............C=10, kernel=linear;, score=0.982 total time=   0.2s\n",
      "[CV 2/5] END ...............C=10, kernel=linear;, score=0.979 total time=   0.2s\n",
      "[CV 3/5] END ...............C=10, kernel=linear;, score=0.985 total time=   0.2s\n",
      "[CV 4/5] END ...............C=10, kernel=linear;, score=0.979 total time=   0.2s\n",
      "[CV 5/5] END ...............C=10, kernel=linear;, score=0.973 total time=   0.2s\n",
      "[CV 1/5] END ..................C=10, kernel=rbf;, score=0.972 total time=   0.6s\n",
      "[CV 2/5] END ..................C=10, kernel=rbf;, score=0.967 total time=   0.6s\n",
      "[CV 3/5] END ..................C=10, kernel=rbf;, score=0.981 total time=   0.6s\n",
      "[CV 4/5] END ..................C=10, kernel=rbf;, score=0.982 total time=   0.6s\n",
      "[CV 5/5] END ..................C=10, kernel=rbf;, score=0.967 total time=   0.6s\n",
      "[CV 1/5] END ..............C=100, kernel=linear;, score=0.981 total time=   0.2s\n",
      "[CV 2/5] END ..............C=100, kernel=linear;, score=0.979 total time=   0.2s\n",
      "[CV 3/5] END ..............C=100, kernel=linear;, score=0.985 total time=   0.2s\n",
      "[CV 4/5] END ..............C=100, kernel=linear;, score=0.979 total time=   0.2s\n",
      "[CV 5/5] END ..............C=100, kernel=linear;, score=0.973 total time=   0.2s\n",
      "[CV 1/5] END .................C=100, kernel=rbf;, score=0.972 total time=   0.6s\n",
      "[CV 2/5] END .................C=100, kernel=rbf;, score=0.967 total time=   0.7s\n",
      "[CV 3/5] END .................C=100, kernel=rbf;, score=0.981 total time=   0.6s\n",
      "[CV 4/5] END .................C=100, kernel=rbf;, score=0.982 total time=   0.6s\n",
      "[CV 5/5] END .................C=100, kernel=rbf;, score=0.967 total time=   0.6s\n"
     ]
    }
   ],
   "source": [
    "from sklearn.model_selection import GridSearchCV\n",
    "param_grid={\"C\":[0.1, 1, 10, 100], \"kernel\":(\"linear\", \"rbf\")}\n",
    "grid= GridSearchCV(clf, param_grid, refit=True, verbose=3)\n",
    "grid.fit(train_tfidf,y_train)\n",
    "y_pred_grid = grid.predict(val_tfidf)"
   ]
  },
  {
   "cell_type": "code",
   "execution_count": 77,
   "id": "bdd37b01",
   "metadata": {},
   "outputs": [
    {
     "name": "stdout",
     "output_type": "stream",
     "text": [
      "The accuracy score of SVM is :  0.9829596412556054\n",
      "              precision    recall  f1-score   support\n",
      "\n",
      "         Ham       0.98      1.00      0.99       961\n",
      "        Spam       0.97      0.90      0.94       154\n",
      "\n",
      "    accuracy                           0.98      1115\n",
      "   macro avg       0.98      0.95      0.96      1115\n",
      "weighted avg       0.98      0.98      0.98      1115\n",
      "\n",
      "[[957   4]\n",
      " [ 15 139]]\n"
     ]
    }
   ],
   "source": [
    "#accuracy score of SVM\n",
    "score2 = metrics.accuracy_score(y_val, y_pred_grid)\n",
    "print(\"The accuracy score of SVM is : \",score2)\n",
    "\n",
    "#Confusion matrix of SVM\n",
    "\n",
    "print(metrics.classification_report(y_val, y_pred_grid, target_names=['Ham', 'Spam']))\n",
    "print(metrics.confusion_matrix(val_df[\"Label\"], y_pred_grid))"
   ]
  },
  {
   "cell_type": "code",
   "execution_count": 78,
   "id": "81bfb3a6",
   "metadata": {},
   "outputs": [
    {
     "data": {
      "text/plain": [
       "{'C': 10, 'kernel': 'linear'}"
      ]
     },
     "execution_count": 78,
     "metadata": {},
     "output_type": "execute_result"
    }
   ],
   "source": [
    "grid.best_params_"
   ]
  },
  {
   "cell_type": "code",
   "execution_count": 79,
   "id": "bae1fb98",
   "metadata": {},
   "outputs": [
    {
     "name": "stdout",
     "output_type": "stream",
     "text": [
      "The accuracy score of SVM is :  0.9883408071748879\n",
      "The AUCPR of SVM is:  0.9216272770237621\n",
      "              precision    recall  f1-score   support\n",
      "\n",
      "         Ham       0.99      1.00      0.99       968\n",
      "        Spam       0.99      0.93      0.95       147\n",
      "\n",
      "    accuracy                           0.99      1115\n",
      "   macro avg       0.99      0.96      0.97      1115\n",
      "weighted avg       0.99      0.99      0.99      1115\n",
      "\n",
      "[[966   2]\n",
      " [ 11 136]]\n"
     ]
    }
   ],
   "source": [
    "#fitting SVM after hyperparameter tuning\n",
    "\n",
    "C = 10\n",
    "kernel = 'linear'\n",
    "#fitting SVM\n",
    "with mlflow.start_run():\n",
    "    clf = svm.SVC(C=C, kernel =kernel,probability=True)\n",
    "    clf.fit(train_tfidf,y_train)\n",
    "    y_pred_svm = clf.predict(test_tfidf)\n",
    "\n",
    "    #accuracy score of SVM\n",
    "    score2 = metrics.accuracy_score(y_test, y_pred_svm)\n",
    "    aucpr2 = average_precision_score(y_test, y_pred_svm)\n",
    "    print(\"The accuracy score of SVM is : \",score2)\n",
    "    print(\"The AUCPR of SVM is: \", aucpr2)\n",
    "\n",
    "    #Confusion matrix of SVM\n",
    "\n",
    "    print(metrics.classification_report(y_test, y_pred_svm, target_names=['Ham', 'Spam']))\n",
    "    print(metrics.confusion_matrix(test_df[\"Label\"], y_pred_svm))\n",
    "\n",
    "    mlflow.log_param(\"C\",C)\n",
    "    mlflow.log_param(\"kernel\",kernel)\n",
    "    mlflow.log_metric(\"Accuracy\", score2)\n",
    "    mlflow.log_metric(\"AUCPR\", aucpr2)\n",
    "\n",
    "    tracking_url_type_store = urlparse(mlflow.get_tracking_uri()).scheme\n",
    "    if tracking_url_type_store != \"file\":\n",
    "\n",
    "            # Register the model\n",
    "            # There are other ways to use the Model Registry, which depends on the use case,\n",
    "            # please refer to the doc for more information:\n",
    "            # https://mlflow.org/docs/latest/model-registry.html#api-workflow\n",
    "            mlflow.sklearn.log_model(clf, \"model2\", registered_model_name=\"SVM_SMS\")\n",
    "    else:\n",
    "            mlflow.sklearn.log_model(clf, \"model2\")"
   ]
  },
  {
   "cell_type": "code",
   "execution_count": 80,
   "id": "1ca44db5",
   "metadata": {},
   "outputs": [],
   "source": [
    "import pickle"
   ]
  },
  {
   "cell_type": "code",
   "execution_count": 81,
   "id": "67813ab6",
   "metadata": {},
   "outputs": [],
   "source": [
    "filename = 'best_model.sav'\n",
    "pickle.dump(clf, open(filename, 'wb'))"
   ]
  },
  {
   "cell_type": "markdown",
   "id": "c4cade37",
   "metadata": {},
   "source": [
    "## Neural Network"
   ]
  },
  {
   "cell_type": "code",
   "execution_count": 95,
   "id": "b02ad678",
   "metadata": {},
   "outputs": [],
   "source": [
    "#Importing the required libraries\n",
    "import tensorflow as tf\n",
    "from tensorflow import keras\n",
    "from keras.preprocessing.text import Tokenizer\n",
    "from keras.utils import pad_sequences\n",
    "from keras.callbacks import EarlyStopping\n",
    "from keras.models import Sequential\n",
    "from keras.layers import Embedding, GlobalAveragePooling1D, Dense, Dropout, LSTM, Bidirectional"
   ]
  },
  {
   "cell_type": "code",
   "execution_count": 83,
   "id": "b4a7bcb0",
   "metadata": {},
   "outputs": [],
   "source": [
    "# Defining pre-processing hyperparameters\n",
    "max_len = 50 \n",
    "trunc_type = \"post\" \n",
    "padding_type = \"post\" \n",
    "oov_tok = \"<OOV>\" \n",
    "vocab_size = 500\n",
    "embeding_dim = 16\n",
    "n_dense = 24\n",
    "\n",
    "#Tokenizing training data\n",
    "tokenizer = Tokenizer(500)\n",
    "tokenizer.fit_on_texts(X_train)"
   ]
  },
  {
   "cell_type": "code",
   "execution_count": 84,
   "id": "11ea7fc1",
   "metadata": {},
   "outputs": [],
   "source": [
    "# Sequencing and padding on training and testing \n",
    "train_seq = tokenizer.texts_to_sequences(X_train)\n",
    "train_pad = pad_sequences(train_seq, maxlen = max_len)\n",
    "val_seq = tokenizer.texts_to_sequences(X_val)\n",
    "val_pad = pad_sequences(val_seq, maxlen = max_len)\n",
    "test_seq = tokenizer.texts_to_sequences(X_test)\n",
    "test_pad = pad_sequences(test_seq, maxlen = max_len)"
   ]
  },
  {
   "cell_type": "code",
   "execution_count": 85,
   "id": "25b2e18a",
   "metadata": {},
   "outputs": [],
   "source": [
    "#Creating the neural network\n",
    "model = Sequential()\n",
    "model.add(Embedding(vocab_size, embeding_dim, input_length=max_len))\n",
    "model.add(GlobalAveragePooling1D())\n",
    "model.add(Dense(24, activation='relu'))\n",
    "model.add(Dense(1, activation='sigmoid'))"
   ]
  },
  {
   "cell_type": "code",
   "execution_count": 86,
   "id": "eb6c1261",
   "metadata": {},
   "outputs": [
    {
     "name": "stdout",
     "output_type": "stream",
     "text": [
      "Epoch 1/30\n",
      "105/105 [==============================] - 1s 2ms/step - loss: 0.5437 - accuracy: 0.8665 - val_loss: 0.3954 - val_accuracy: 0.8619\n",
      "Epoch 2/30\n",
      "105/105 [==============================] - 0s 1ms/step - loss: 0.3494 - accuracy: 0.8665 - val_loss: 0.3372 - val_accuracy: 0.8619\n",
      "Epoch 3/30\n",
      "105/105 [==============================] - 0s 1ms/step - loss: 0.3102 - accuracy: 0.8665 - val_loss: 0.2961 - val_accuracy: 0.8619\n",
      "Epoch 4/30\n",
      "105/105 [==============================] - 0s 1ms/step - loss: 0.2504 - accuracy: 0.8812 - val_loss: 0.2128 - val_accuracy: 0.9022\n",
      "Epoch 5/30\n",
      "105/105 [==============================] - 0s 2ms/step - loss: 0.1605 - accuracy: 0.9425 - val_loss: 0.1267 - val_accuracy: 0.9561\n",
      "Epoch 6/30\n",
      "105/105 [==============================] - 0s 1ms/step - loss: 0.0987 - accuracy: 0.9686 - val_loss: 0.0880 - val_accuracy: 0.9758\n",
      "Epoch 7/30\n",
      "105/105 [==============================] - 0s 1ms/step - loss: 0.0742 - accuracy: 0.9788 - val_loss: 0.0728 - val_accuracy: 0.9776\n",
      "Epoch 8/30\n",
      "105/105 [==============================] - 0s 2ms/step - loss: 0.0617 - accuracy: 0.9817 - val_loss: 0.0653 - val_accuracy: 0.9803\n",
      "Epoch 9/30\n",
      "105/105 [==============================] - 0s 1ms/step - loss: 0.0543 - accuracy: 0.9844 - val_loss: 0.0617 - val_accuracy: 0.9794\n",
      "Epoch 10/30\n",
      "105/105 [==============================] - 0s 1ms/step - loss: 0.0492 - accuracy: 0.9856 - val_loss: 0.0586 - val_accuracy: 0.9785\n",
      "Epoch 11/30\n",
      "105/105 [==============================] - 0s 1ms/step - loss: 0.0447 - accuracy: 0.9874 - val_loss: 0.0572 - val_accuracy: 0.9794\n",
      "Epoch 12/30\n",
      "105/105 [==============================] - 0s 1ms/step - loss: 0.0409 - accuracy: 0.9877 - val_loss: 0.0573 - val_accuracy: 0.9839\n",
      "Epoch 13/30\n",
      "105/105 [==============================] - 0s 1ms/step - loss: 0.0384 - accuracy: 0.9889 - val_loss: 0.0561 - val_accuracy: 0.9830\n",
      "Epoch 14/30\n",
      "105/105 [==============================] - 0s 1ms/step - loss: 0.0359 - accuracy: 0.9883 - val_loss: 0.0556 - val_accuracy: 0.9821\n",
      "Epoch 15/30\n",
      "105/105 [==============================] - 0s 1ms/step - loss: 0.0334 - accuracy: 0.9886 - val_loss: 0.0557 - val_accuracy: 0.9803\n",
      "Epoch 16/30\n",
      "105/105 [==============================] - 0s 1ms/step - loss: 0.0317 - accuracy: 0.9901 - val_loss: 0.0559 - val_accuracy: 0.9803\n",
      "Epoch 17/30\n",
      "105/105 [==============================] - 0s 1ms/step - loss: 0.0293 - accuracy: 0.9892 - val_loss: 0.0570 - val_accuracy: 0.9803\n",
      "Epoch 18/30\n",
      "105/105 [==============================] - 0s 1ms/step - loss: 0.0273 - accuracy: 0.9916 - val_loss: 0.0570 - val_accuracy: 0.9821\n",
      "Epoch 19/30\n",
      "105/105 [==============================] - 0s 1ms/step - loss: 0.0256 - accuracy: 0.9913 - val_loss: 0.0580 - val_accuracy: 0.9794\n",
      "Epoch 20/30\n",
      "105/105 [==============================] - 0s 1ms/step - loss: 0.0240 - accuracy: 0.9916 - val_loss: 0.0591 - val_accuracy: 0.9821\n",
      "Epoch 21/30\n",
      "105/105 [==============================] - 0s 1ms/step - loss: 0.0219 - accuracy: 0.9934 - val_loss: 0.0612 - val_accuracy: 0.9794\n",
      "Epoch 22/30\n",
      "105/105 [==============================] - 0s 1ms/step - loss: 0.0216 - accuracy: 0.9931 - val_loss: 0.0599 - val_accuracy: 0.9794\n",
      "Epoch 23/30\n",
      "105/105 [==============================] - 0s 1ms/step - loss: 0.0199 - accuracy: 0.9934 - val_loss: 0.0618 - val_accuracy: 0.9803\n",
      "Epoch 24/30\n",
      "105/105 [==============================] - 0s 1ms/step - loss: 0.0184 - accuracy: 0.9940 - val_loss: 0.0620 - val_accuracy: 0.9812\n",
      "Epoch 25/30\n",
      "105/105 [==============================] - 0s 2ms/step - loss: 0.0172 - accuracy: 0.9943 - val_loss: 0.0629 - val_accuracy: 0.9803\n",
      "Epoch 26/30\n",
      "105/105 [==============================] - 0s 1ms/step - loss: 0.0164 - accuracy: 0.9946 - val_loss: 0.0641 - val_accuracy: 0.9803\n",
      "Epoch 27/30\n",
      "105/105 [==============================] - 0s 1ms/step - loss: 0.0160 - accuracy: 0.9946 - val_loss: 0.0667 - val_accuracy: 0.9794\n",
      "Epoch 28/30\n",
      "105/105 [==============================] - 0s 2ms/step - loss: 0.0148 - accuracy: 0.9961 - val_loss: 0.0662 - val_accuracy: 0.9794\n",
      "Epoch 29/30\n",
      "105/105 [==============================] - 0s 1ms/step - loss: 0.0141 - accuracy: 0.9952 - val_loss: 0.0674 - val_accuracy: 0.9812\n",
      "Epoch 30/30\n",
      "105/105 [==============================] - 0s 2ms/step - loss: 0.0131 - accuracy: 0.9967 - val_loss: 0.0688 - val_accuracy: 0.9821\n",
      "35/35 [==============================] - 0s 692us/step - loss: 0.0688 - accuracy: 0.9821\n"
     ]
    },
    {
     "name": "stderr",
     "output_type": "stream",
     "text": [
      "2023/02/23 20:40:20 WARNING mlflow.tensorflow: You are saving a TensorFlow Core model or Keras model without a signature. Inference with mlflow.pyfunc.spark_udf() will not work unless the model's pyfunc representation accepts pandas DataFrames as inference inputs.\n",
      "WARNING:absl:Found untraced functions such as _update_step_xla while saving (showing 1 of 1). These functions will not be directly callable after loading.\n"
     ]
    },
    {
     "name": "stdout",
     "output_type": "stream",
     "text": [
      "INFO:tensorflow:Assets written to: C:\\Users\\SUCHET~1\\AppData\\Local\\Temp\\tmpdvd9xqi9\\model\\data\\model\\assets\n"
     ]
    },
    {
     "name": "stderr",
     "output_type": "stream",
     "text": [
      "INFO:tensorflow:Assets written to: C:\\Users\\SUCHET~1\\AppData\\Local\\Temp\\tmpdvd9xqi9\\model\\data\\model\\assets\n"
     ]
    },
    {
     "name": "stdout",
     "output_type": "stream",
     "text": [
      "Keras weights file (<HDF5 file \"variables.h5\" (mode r+)>) saving:\n",
      "...layers\\dense\n",
      "......vars\n",
      ".........0\n",
      ".........1\n",
      "...layers\\dense_1\n",
      "......vars\n",
      ".........0\n",
      ".........1\n",
      "...layers\\embedding\n",
      "......vars\n",
      ".........0\n",
      "...layers\\global_average_pooling1d\n",
      "......vars\n",
      "...metrics\\mean\n",
      "......vars\n",
      ".........0\n",
      ".........1\n",
      "...metrics\\mean_metric_wrapper\n",
      "......vars\n",
      ".........0\n",
      ".........1\n",
      "...optimizer\n",
      "......vars\n",
      ".........0\n",
      ".........1\n",
      ".........10\n",
      ".........2\n",
      ".........3\n",
      ".........4\n",
      ".........5\n",
      ".........6\n",
      ".........7\n",
      ".........8\n",
      ".........9\n",
      "...vars\n",
      "Keras model archive saving:\n",
      "File Name                                             Modified             Size\n",
      "config.json                                    2023-02-23 20:40:25         1982\n",
      "metadata.json                                  2023-02-23 20:40:25           64\n",
      "variables.h5                                   2023-02-23 20:40:25       124548\n"
     ]
    }
   ],
   "source": [
    "# fitting the model to our data\n",
    "\n",
    "with mlflow.start_run():\n",
    "    model.compile(loss='binary_crossentropy',optimizer='adam' ,metrics=['accuracy'])\n",
    "    model.fit(train_pad, y_train, epochs=30, validation_data=(val_pad, y_val))\n",
    "    # Model performance on validation data\n",
    "    score3 = model.evaluate(val_pad, y_val)\n",
    "\n",
    "    mlflow.log_param(\"activation function\", \"relu\")\n",
    "    mlflow.log_metric(\"test loss\", score3[0])\n",
    "    mlflow.log_metric(\"test accuracy\", score3[1])\n",
    "    \n",
    "    # Log Model\n",
    "    mlflow.keras.log_model(model, \"model3\")\n",
    "\n",
    "    \n",
    "    tracking_url_type_store = urlparse(mlflow.get_tracking_uri()).scheme\n",
    "    if tracking_url_type_store != \"file\":\n",
    "\n",
    "            # Register the model\n",
    "            # There are other ways to use the Model Registry, which depends on the use case,\n",
    "            # please refer to the doc for more information:\n",
    "            # https://mlflow.org/docs/latest/model-registry.html#api-workflow\n",
    "            mlflow.sklearn.log_model(model, \"model3\", registered_model_name=\"NN_SMS\")\n",
    "    else:\n",
    "            mlflow.sklearn.log_model(model, \"model3\")"
   ]
  },
  {
   "cell_type": "markdown",
   "id": "9b4b79a4",
   "metadata": {},
   "source": [
    "#### Hyperparameter tuning for Neural Network"
   ]
  },
  {
   "cell_type": "code",
   "execution_count": 87,
   "id": "5fc0ea8c",
   "metadata": {},
   "outputs": [
    {
     "name": "stdout",
     "output_type": "stream",
     "text": [
      "Epoch 1/30\n",
      "105/105 [==============================] - 1s 3ms/step - loss: 0.0125 - accuracy: 0.9961 - val_loss: 0.0690 - val_accuracy: 0.9794\n",
      "Epoch 2/30\n",
      "105/105 [==============================] - 0s 2ms/step - loss: 0.0125 - accuracy: 0.9967 - val_loss: 0.0722 - val_accuracy: 0.9821\n",
      "Epoch 3/30\n",
      "105/105 [==============================] - 0s 2ms/step - loss: 0.0124 - accuracy: 0.9964 - val_loss: 0.0692 - val_accuracy: 0.9812\n",
      "Epoch 4/30\n",
      "105/105 [==============================] - 0s 2ms/step - loss: 0.0125 - accuracy: 0.9967 - val_loss: 0.0687 - val_accuracy: 0.9794\n",
      "Epoch 5/30\n",
      "105/105 [==============================] - 0s 2ms/step - loss: 0.0125 - accuracy: 0.9961 - val_loss: 0.0689 - val_accuracy: 0.9812\n",
      "Epoch 6/30\n",
      "105/105 [==============================] - 0s 2ms/step - loss: 0.0127 - accuracy: 0.9964 - val_loss: 0.0693 - val_accuracy: 0.9794\n",
      "Epoch 7/30\n",
      "105/105 [==============================] - 0s 2ms/step - loss: 0.0126 - accuracy: 0.9961 - val_loss: 0.0697 - val_accuracy: 0.9794\n",
      "Epoch 8/30\n",
      "105/105 [==============================] - 0s 2ms/step - loss: 0.0126 - accuracy: 0.9970 - val_loss: 0.0688 - val_accuracy: 0.9794\n",
      "Epoch 9/30\n",
      "105/105 [==============================] - 0s 1ms/step - loss: 0.0119 - accuracy: 0.9964 - val_loss: 0.0688 - val_accuracy: 0.9803\n",
      "Epoch 10/30\n",
      "105/105 [==============================] - 0s 2ms/step - loss: 0.0125 - accuracy: 0.9970 - val_loss: 0.0692 - val_accuracy: 0.9821\n",
      "Epoch 11/30\n",
      "105/105 [==============================] - 0s 2ms/step - loss: 0.0124 - accuracy: 0.9970 - val_loss: 0.0696 - val_accuracy: 0.9794\n",
      "Epoch 12/30\n",
      "105/105 [==============================] - 0s 2ms/step - loss: 0.0122 - accuracy: 0.9967 - val_loss: 0.0699 - val_accuracy: 0.9794\n",
      "Epoch 13/30\n",
      "105/105 [==============================] - 0s 3ms/step - loss: 0.0129 - accuracy: 0.9964 - val_loss: 0.0702 - val_accuracy: 0.9794\n",
      "Epoch 14/30\n",
      "105/105 [==============================] - 0s 2ms/step - loss: 0.0120 - accuracy: 0.9967 - val_loss: 0.0689 - val_accuracy: 0.9794\n",
      "Epoch 15/30\n",
      "105/105 [==============================] - 0s 2ms/step - loss: 0.0124 - accuracy: 0.9958 - val_loss: 0.0694 - val_accuracy: 0.9794\n",
      "Epoch 16/30\n",
      "105/105 [==============================] - 0s 2ms/step - loss: 0.0123 - accuracy: 0.9976 - val_loss: 0.0691 - val_accuracy: 0.9812\n",
      "Epoch 17/30\n",
      "105/105 [==============================] - 0s 2ms/step - loss: 0.0127 - accuracy: 0.9967 - val_loss: 0.0690 - val_accuracy: 0.9794\n",
      "Epoch 18/30\n",
      "105/105 [==============================] - 0s 2ms/step - loss: 0.0127 - accuracy: 0.9970 - val_loss: 0.0708 - val_accuracy: 0.9794\n",
      "Epoch 19/30\n",
      "105/105 [==============================] - 0s 2ms/step - loss: 0.0125 - accuracy: 0.9964 - val_loss: 0.0700 - val_accuracy: 0.9794\n",
      "Epoch 20/30\n",
      "105/105 [==============================] - 0s 2ms/step - loss: 0.0124 - accuracy: 0.9964 - val_loss: 0.0712 - val_accuracy: 0.9794\n",
      "Epoch 21/30\n",
      "105/105 [==============================] - 0s 2ms/step - loss: 0.0125 - accuracy: 0.9961 - val_loss: 0.0701 - val_accuracy: 0.9794\n",
      "Epoch 22/30\n",
      "105/105 [==============================] - 0s 2ms/step - loss: 0.0127 - accuracy: 0.9967 - val_loss: 0.0691 - val_accuracy: 0.9794\n",
      "Epoch 23/30\n",
      "105/105 [==============================] - 0s 2ms/step - loss: 0.0123 - accuracy: 0.9961 - val_loss: 0.0707 - val_accuracy: 0.9794\n",
      "Epoch 24/30\n",
      "105/105 [==============================] - 0s 2ms/step - loss: 0.0119 - accuracy: 0.9967 - val_loss: 0.0693 - val_accuracy: 0.9803\n",
      "Epoch 25/30\n",
      "105/105 [==============================] - 0s 2ms/step - loss: 0.0124 - accuracy: 0.9961 - val_loss: 0.0731 - val_accuracy: 0.9821\n",
      "Epoch 26/30\n",
      "105/105 [==============================] - 0s 2ms/step - loss: 0.0127 - accuracy: 0.9967 - val_loss: 0.0694 - val_accuracy: 0.9821\n",
      "Epoch 27/30\n",
      "105/105 [==============================] - 0s 2ms/step - loss: 0.0123 - accuracy: 0.9967 - val_loss: 0.0718 - val_accuracy: 0.9794\n",
      "Epoch 28/30\n",
      "105/105 [==============================] - 0s 2ms/step - loss: 0.0127 - accuracy: 0.9967 - val_loss: 0.0692 - val_accuracy: 0.9803\n",
      "Epoch 29/30\n",
      "105/105 [==============================] - 0s 4ms/step - loss: 0.0123 - accuracy: 0.9967 - val_loss: 0.0699 - val_accuracy: 0.9794\n",
      "Epoch 30/30\n",
      "105/105 [==============================] - 0s 2ms/step - loss: 0.0126 - accuracy: 0.9964 - val_loss: 0.0703 - val_accuracy: 0.9794\n"
     ]
    }
   ],
   "source": [
    "#Changing the loss function\n",
    "# fitting the model on our data\n",
    "model.compile(loss='binary_crossentropy',optimizer='SGD' ,metrics=['accuracy'])\n",
    "fit_model = model.fit(train_pad, y_train, epochs=30, validation_data=(val_pad, y_val))"
   ]
  },
  {
   "cell_type": "code",
   "execution_count": 88,
   "id": "470e5f77",
   "metadata": {},
   "outputs": [
    {
     "name": "stdout",
     "output_type": "stream",
     "text": [
      "35/35 [==============================] - 0s 1ms/step - loss: 0.0703 - accuracy: 0.9794\n"
     ]
    },
    {
     "data": {
      "text/plain": [
       "[0.07026489078998566, 0.9793722033500671]"
      ]
     },
     "execution_count": 88,
     "metadata": {},
     "output_type": "execute_result"
    }
   ],
   "source": [
    "# Model performance on validation data \n",
    "model.evaluate(val_pad, y_val)"
   ]
  },
  {
   "cell_type": "code",
   "execution_count": 89,
   "id": "60ba0d24",
   "metadata": {},
   "outputs": [
    {
     "name": "stdout",
     "output_type": "stream",
     "text": [
      "Epoch 1/50\n",
      "105/105 [==============================] - 1s 3ms/step - loss: 0.0128 - accuracy: 0.9967 - val_loss: 0.0714 - val_accuracy: 0.9794\n",
      "Epoch 2/50\n",
      "105/105 [==============================] - 0s 2ms/step - loss: 0.0116 - accuracy: 0.9967 - val_loss: 0.0727 - val_accuracy: 0.9794\n",
      "Epoch 3/50\n",
      "105/105 [==============================] - 0s 2ms/step - loss: 0.0109 - accuracy: 0.9967 - val_loss: 0.0744 - val_accuracy: 0.9794\n",
      "Epoch 4/50\n",
      "105/105 [==============================] - 0s 4ms/step - loss: 0.0103 - accuracy: 0.9979 - val_loss: 0.0777 - val_accuracy: 0.9812\n",
      "Epoch 5/50\n",
      "105/105 [==============================] - 0s 2ms/step - loss: 0.0098 - accuracy: 0.9976 - val_loss: 0.0780 - val_accuracy: 0.9803\n",
      "Epoch 6/50\n",
      "105/105 [==============================] - 0s 2ms/step - loss: 0.0089 - accuracy: 0.9985 - val_loss: 0.0791 - val_accuracy: 0.9794\n",
      "Epoch 7/50\n",
      "105/105 [==============================] - 0s 2ms/step - loss: 0.0088 - accuracy: 0.9976 - val_loss: 0.0801 - val_accuracy: 0.9794\n",
      "Epoch 8/50\n",
      "105/105 [==============================] - 0s 2ms/step - loss: 0.0081 - accuracy: 0.9979 - val_loss: 0.0841 - val_accuracy: 0.9839\n",
      "Epoch 9/50\n",
      "105/105 [==============================] - 0s 4ms/step - loss: 0.0080 - accuracy: 0.9976 - val_loss: 0.0835 - val_accuracy: 0.9812\n",
      "Epoch 10/50\n",
      "105/105 [==============================] - 0s 3ms/step - loss: 0.0074 - accuracy: 0.9985 - val_loss: 0.0852 - val_accuracy: 0.9812\n",
      "Epoch 11/50\n",
      "105/105 [==============================] - 0s 2ms/step - loss: 0.0070 - accuracy: 0.9985 - val_loss: 0.0862 - val_accuracy: 0.9812\n",
      "Epoch 12/50\n",
      "105/105 [==============================] - 0s 2ms/step - loss: 0.0067 - accuracy: 0.9988 - val_loss: 0.0896 - val_accuracy: 0.9803\n",
      "Epoch 13/50\n",
      "105/105 [==============================] - 0s 3ms/step - loss: 0.0065 - accuracy: 0.9988 - val_loss: 0.0895 - val_accuracy: 0.9821\n",
      "Epoch 14/50\n",
      "105/105 [==============================] - 0s 2ms/step - loss: 0.0062 - accuracy: 0.9985 - val_loss: 0.0909 - val_accuracy: 0.9830\n",
      "Epoch 15/50\n",
      "105/105 [==============================] - 0s 2ms/step - loss: 0.0058 - accuracy: 0.9991 - val_loss: 0.0921 - val_accuracy: 0.9839\n",
      "Epoch 16/50\n",
      "105/105 [==============================] - 0s 2ms/step - loss: 0.0054 - accuracy: 0.9988 - val_loss: 0.0940 - val_accuracy: 0.9830\n",
      "Epoch 17/50\n",
      "105/105 [==============================] - 0s 2ms/step - loss: 0.0049 - accuracy: 0.9988 - val_loss: 0.0942 - val_accuracy: 0.9839\n",
      "Epoch 18/50\n",
      "105/105 [==============================] - 0s 2ms/step - loss: 0.0043 - accuracy: 0.9991 - val_loss: 0.0978 - val_accuracy: 0.9821\n",
      "Epoch 19/50\n",
      "105/105 [==============================] - 0s 2ms/step - loss: 0.0043 - accuracy: 0.9991 - val_loss: 0.0988 - val_accuracy: 0.9830\n",
      "Epoch 20/50\n",
      "105/105 [==============================] - 0s 2ms/step - loss: 0.0034 - accuracy: 0.9994 - val_loss: 0.1011 - val_accuracy: 0.9821\n",
      "Epoch 21/50\n",
      "105/105 [==============================] - 0s 2ms/step - loss: 0.0032 - accuracy: 0.9991 - val_loss: 0.1006 - val_accuracy: 0.9839\n",
      "Epoch 22/50\n",
      "105/105 [==============================] - 0s 3ms/step - loss: 0.0029 - accuracy: 0.9994 - val_loss: 0.1027 - val_accuracy: 0.9830\n",
      "Epoch 23/50\n",
      "105/105 [==============================] - 0s 3ms/step - loss: 0.0030 - accuracy: 0.9994 - val_loss: 0.1042 - val_accuracy: 0.9830\n",
      "Epoch 24/50\n",
      "105/105 [==============================] - 0s 2ms/step - loss: 0.0028 - accuracy: 0.9994 - val_loss: 0.1067 - val_accuracy: 0.9821\n",
      "Epoch 25/50\n",
      "105/105 [==============================] - 0s 3ms/step - loss: 0.0024 - accuracy: 0.9994 - val_loss: 0.1086 - val_accuracy: 0.9812\n",
      "Epoch 26/50\n",
      "105/105 [==============================] - 0s 2ms/step - loss: 0.0023 - accuracy: 0.9994 - val_loss: 0.1099 - val_accuracy: 0.9830\n",
      "Epoch 27/50\n",
      "105/105 [==============================] - 0s 3ms/step - loss: 0.0022 - accuracy: 0.9997 - val_loss: 0.1126 - val_accuracy: 0.9812\n",
      "Epoch 28/50\n",
      "105/105 [==============================] - 0s 3ms/step - loss: 0.0021 - accuracy: 0.9997 - val_loss: 0.1156 - val_accuracy: 0.9821\n",
      "Epoch 29/50\n",
      "105/105 [==============================] - 0s 2ms/step - loss: 0.0019 - accuracy: 0.9997 - val_loss: 0.1156 - val_accuracy: 0.9830\n",
      "Epoch 30/50\n",
      "105/105 [==============================] - 0s 3ms/step - loss: 0.0023 - accuracy: 0.9997 - val_loss: 0.1171 - val_accuracy: 0.9830\n",
      "Epoch 31/50\n",
      "105/105 [==============================] - 0s 2ms/step - loss: 0.0016 - accuracy: 0.9997 - val_loss: 0.1194 - val_accuracy: 0.9812\n",
      "Epoch 32/50\n",
      "105/105 [==============================] - 0s 2ms/step - loss: 0.0015 - accuracy: 0.9997 - val_loss: 0.1212 - val_accuracy: 0.9830\n",
      "Epoch 33/50\n",
      "105/105 [==============================] - 0s 2ms/step - loss: 0.0015 - accuracy: 0.9997 - val_loss: 0.1222 - val_accuracy: 0.9830\n",
      "Epoch 34/50\n",
      "105/105 [==============================] - 0s 2ms/step - loss: 0.0014 - accuracy: 0.9997 - val_loss: 0.1299 - val_accuracy: 0.9803\n",
      "Epoch 35/50\n",
      "105/105 [==============================] - 0s 2ms/step - loss: 0.0015 - accuracy: 0.9997 - val_loss: 0.1282 - val_accuracy: 0.9812\n",
      "Epoch 36/50\n",
      "105/105 [==============================] - 0s 2ms/step - loss: 0.0012 - accuracy: 1.0000 - val_loss: 0.1272 - val_accuracy: 0.9830\n",
      "Epoch 37/50\n",
      "105/105 [==============================] - 0s 2ms/step - loss: 0.0015 - accuracy: 0.9997 - val_loss: 0.1298 - val_accuracy: 0.9830\n",
      "Epoch 38/50\n",
      "105/105 [==============================] - 0s 4ms/step - loss: 0.0013 - accuracy: 0.9997 - val_loss: 0.1314 - val_accuracy: 0.9830\n",
      "Epoch 39/50\n",
      "105/105 [==============================] - 0s 2ms/step - loss: 0.0010 - accuracy: 1.0000 - val_loss: 0.1340 - val_accuracy: 0.9803\n",
      "Epoch 40/50\n",
      "105/105 [==============================] - 0s 2ms/step - loss: 9.8746e-04 - accuracy: 1.0000 - val_loss: 0.1350 - val_accuracy: 0.9830\n",
      "Epoch 41/50\n",
      "105/105 [==============================] - 0s 2ms/step - loss: 0.0011 - accuracy: 0.9997 - val_loss: 0.1383 - val_accuracy: 0.9803\n",
      "Epoch 42/50\n",
      "105/105 [==============================] - 0s 2ms/step - loss: 0.0010 - accuracy: 0.9997 - val_loss: 0.1398 - val_accuracy: 0.9794\n",
      "Epoch 43/50\n",
      "105/105 [==============================] - 0s 2ms/step - loss: 9.0482e-04 - accuracy: 0.9997 - val_loss: 0.1408 - val_accuracy: 0.9812\n",
      "Epoch 44/50\n",
      "105/105 [==============================] - 0s 2ms/step - loss: 8.2998e-04 - accuracy: 0.9997 - val_loss: 0.1422 - val_accuracy: 0.9821\n",
      "Epoch 45/50\n",
      "105/105 [==============================] - 0s 2ms/step - loss: 7.6656e-04 - accuracy: 1.0000 - val_loss: 0.1439 - val_accuracy: 0.9821\n",
      "Epoch 46/50\n",
      "105/105 [==============================] - 0s 3ms/step - loss: 6.3537e-04 - accuracy: 1.0000 - val_loss: 0.1479 - val_accuracy: 0.9794\n",
      "Epoch 47/50\n",
      "105/105 [==============================] - 0s 3ms/step - loss: 6.0692e-04 - accuracy: 1.0000 - val_loss: 0.1502 - val_accuracy: 0.9803\n",
      "Epoch 48/50\n",
      "105/105 [==============================] - 0s 2ms/step - loss: 8.9604e-04 - accuracy: 0.9997 - val_loss: 0.1486 - val_accuracy: 0.9830\n",
      "Epoch 49/50\n",
      "105/105 [==============================] - 0s 2ms/step - loss: 5.0411e-04 - accuracy: 1.0000 - val_loss: 0.1525 - val_accuracy: 0.9794\n",
      "Epoch 50/50\n",
      "105/105 [==============================] - 0s 3ms/step - loss: 5.3102e-04 - accuracy: 1.0000 - val_loss: 0.1570 - val_accuracy: 0.9785\n",
      "35/35 [==============================] - 0s 1ms/step - loss: 0.1570 - accuracy: 0.9785\n"
     ]
    },
    {
     "data": {
      "text/plain": [
       "[0.15704137086868286, 0.9784753322601318]"
      ]
     },
     "execution_count": 89,
     "metadata": {},
     "output_type": "execute_result"
    }
   ],
   "source": [
    "# Changing the number of epochs\n",
    "\n",
    "# fitting a dense spam detector model\n",
    "model.compile(loss='binary_crossentropy',optimizer='adam' ,metrics=['accuracy'])\n",
    "fit_model = model.fit(train_pad, y_train, epochs=50, validation_data=(val_pad, y_val))\n",
    "# Model performance on validation data \n",
    "model.evaluate(val_pad, y_val)"
   ]
  },
  {
   "cell_type": "markdown",
   "id": "9aaee6e4",
   "metadata": {},
   "source": [
    "As we can see the best accuracy is observed for Adam and number of epochs 30, so we predict the model on the test data."
   ]
  },
  {
   "cell_type": "code",
   "execution_count": 90,
   "id": "dbe4b5fb",
   "metadata": {},
   "outputs": [
    {
     "name": "stdout",
     "output_type": "stream",
     "text": [
      "Epoch 1/30\n",
      "105/105 [==============================] - 1s 3ms/step - loss: 6.0326e-04 - accuracy: 1.0000 - val_loss: 0.1105 - val_accuracy: 0.9803\n",
      "Epoch 2/30\n",
      "105/105 [==============================] - 0s 2ms/step - loss: 6.0963e-04 - accuracy: 0.9997 - val_loss: 0.1184 - val_accuracy: 0.9785\n",
      "Epoch 3/30\n",
      "105/105 [==============================] - 0s 2ms/step - loss: 5.2758e-04 - accuracy: 1.0000 - val_loss: 0.1134 - val_accuracy: 0.9803\n",
      "Epoch 4/30\n",
      "105/105 [==============================] - 0s 2ms/step - loss: 4.3317e-04 - accuracy: 1.0000 - val_loss: 0.1112 - val_accuracy: 0.9794\n",
      "Epoch 5/30\n",
      "105/105 [==============================] - 0s 2ms/step - loss: 5.6979e-04 - accuracy: 1.0000 - val_loss: 0.1133 - val_accuracy: 0.9803\n",
      "Epoch 6/30\n",
      "105/105 [==============================] - 0s 3ms/step - loss: 4.0326e-04 - accuracy: 1.0000 - val_loss: 0.1162 - val_accuracy: 0.9803\n",
      "Epoch 7/30\n",
      "105/105 [==============================] - 0s 3ms/step - loss: 2.9372e-04 - accuracy: 1.0000 - val_loss: 0.1170 - val_accuracy: 0.9803\n",
      "Epoch 8/30\n",
      "105/105 [==============================] - 0s 2ms/step - loss: 2.6293e-04 - accuracy: 1.0000 - val_loss: 0.1178 - val_accuracy: 0.9803\n",
      "Epoch 9/30\n",
      "105/105 [==============================] - 0s 2ms/step - loss: 2.9224e-04 - accuracy: 1.0000 - val_loss: 0.1245 - val_accuracy: 0.9794\n",
      "Epoch 10/30\n",
      "105/105 [==============================] - 0s 2ms/step - loss: 2.8217e-04 - accuracy: 1.0000 - val_loss: 0.1205 - val_accuracy: 0.9812\n",
      "Epoch 11/30\n",
      "105/105 [==============================] - 0s 2ms/step - loss: 2.5048e-04 - accuracy: 1.0000 - val_loss: 0.1204 - val_accuracy: 0.9803\n",
      "Epoch 12/30\n",
      "105/105 [==============================] - 0s 3ms/step - loss: 2.4224e-04 - accuracy: 1.0000 - val_loss: 0.1257 - val_accuracy: 0.9803\n",
      "Epoch 13/30\n",
      "105/105 [==============================] - 0s 2ms/step - loss: 1.9606e-04 - accuracy: 1.0000 - val_loss: 0.1338 - val_accuracy: 0.9785\n",
      "Epoch 14/30\n",
      "105/105 [==============================] - 0s 2ms/step - loss: 1.9035e-04 - accuracy: 1.0000 - val_loss: 0.1258 - val_accuracy: 0.9812\n",
      "Epoch 15/30\n",
      "105/105 [==============================] - 0s 2ms/step - loss: 1.6823e-04 - accuracy: 1.0000 - val_loss: 0.1260 - val_accuracy: 0.9803\n",
      "Epoch 16/30\n",
      "105/105 [==============================] - 0s 2ms/step - loss: 2.2028e-04 - accuracy: 1.0000 - val_loss: 0.1273 - val_accuracy: 0.9803\n",
      "Epoch 17/30\n",
      "105/105 [==============================] - 0s 2ms/step - loss: 1.4281e-04 - accuracy: 1.0000 - val_loss: 0.1284 - val_accuracy: 0.9803\n",
      "Epoch 18/30\n",
      "105/105 [==============================] - 0s 2ms/step - loss: 1.2048e-04 - accuracy: 1.0000 - val_loss: 0.1352 - val_accuracy: 0.9803\n",
      "Epoch 19/30\n",
      "105/105 [==============================] - 0s 2ms/step - loss: 1.5889e-04 - accuracy: 1.0000 - val_loss: 0.1343 - val_accuracy: 0.9812\n",
      "Epoch 20/30\n",
      "105/105 [==============================] - 0s 2ms/step - loss: 1.1468e-04 - accuracy: 1.0000 - val_loss: 0.1322 - val_accuracy: 0.9803\n",
      "Epoch 21/30\n",
      "105/105 [==============================] - 0s 2ms/step - loss: 8.8743e-05 - accuracy: 1.0000 - val_loss: 0.1413 - val_accuracy: 0.9785\n",
      "Epoch 22/30\n",
      "105/105 [==============================] - 0s 2ms/step - loss: 1.0412e-04 - accuracy: 1.0000 - val_loss: 0.1351 - val_accuracy: 0.9803\n",
      "Epoch 23/30\n",
      "105/105 [==============================] - 0s 2ms/step - loss: 1.2157e-04 - accuracy: 1.0000 - val_loss: 0.1375 - val_accuracy: 0.9803\n",
      "Epoch 24/30\n",
      "105/105 [==============================] - 0s 2ms/step - loss: 9.0385e-05 - accuracy: 1.0000 - val_loss: 0.1369 - val_accuracy: 0.9803\n",
      "Epoch 25/30\n",
      "105/105 [==============================] - 0s 3ms/step - loss: 7.9535e-05 - accuracy: 1.0000 - val_loss: 0.1375 - val_accuracy: 0.9803\n",
      "Epoch 26/30\n",
      "105/105 [==============================] - 0s 2ms/step - loss: 7.2243e-05 - accuracy: 1.0000 - val_loss: 0.1410 - val_accuracy: 0.9803\n",
      "Epoch 27/30\n",
      "105/105 [==============================] - 0s 2ms/step - loss: 6.7712e-05 - accuracy: 1.0000 - val_loss: 0.1445 - val_accuracy: 0.9812\n",
      "Epoch 28/30\n",
      "105/105 [==============================] - 0s 2ms/step - loss: 1.7733e-04 - accuracy: 1.0000 - val_loss: 0.1422 - val_accuracy: 0.9803\n",
      "Epoch 29/30\n",
      "105/105 [==============================] - 0s 2ms/step - loss: 6.4031e-05 - accuracy: 1.0000 - val_loss: 0.1491 - val_accuracy: 0.9803\n",
      "Epoch 30/30\n",
      "105/105 [==============================] - 0s 3ms/step - loss: 6.7556e-05 - accuracy: 1.0000 - val_loss: 0.1441 - val_accuracy: 0.9803\n",
      "35/35 [==============================] - 0s 2ms/step - loss: 0.1441 - accuracy: 0.9803\n"
     ]
    }
   ],
   "source": [
    "# fitting the model \n",
    "model.compile(loss='binary_crossentropy',optimizer='adam' ,metrics=['accuracy'])\n",
    "fit_model = model.fit(train_pad, y_train, epochs=30, validation_data=(test_pad, y_test))\n",
    "\n",
    "# Model performance on test data \n",
    "results = model.evaluate(test_pad, y_test)"
   ]
  },
  {
   "cell_type": "code",
   "execution_count": 91,
   "id": "a3ca274f",
   "metadata": {},
   "outputs": [
    {
     "name": "stdout",
     "output_type": "stream",
     "text": [
      "Neural Network gives us an accuracy of : 0.9802690744400024\n"
     ]
    }
   ],
   "source": [
    "print(\"Neural Network gives us an accuracy of :\", results[1])"
   ]
  },
  {
   "cell_type": "code",
   "execution_count": null,
   "id": "695b6299",
   "metadata": {},
   "outputs": [],
   "source": []
  }
 ],
 "metadata": {
  "kernelspec": {
   "display_name": "Python 3",
   "language": "python",
   "name": "python3"
  },
  "language_info": {
   "codemirror_mode": {
    "name": "ipython",
    "version": 3
   },
   "file_extension": ".py",
   "mimetype": "text/x-python",
   "name": "python",
   "nbconvert_exporter": "python",
   "pygments_lexer": "ipython3",
   "version": "3.10.2"
  },
  "vscode": {
   "interpreter": {
    "hash": "a00628f37e87a1a19a7105c48b2a71dbeab4ab6b4c640dca59b8449dc9d95d85"
   }
  }
 },
 "nbformat": 4,
 "nbformat_minor": 5
}
