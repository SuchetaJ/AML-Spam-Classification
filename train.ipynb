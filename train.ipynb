{
 "cells": [
  {
   "cell_type": "code",
   "execution_count": 2,
   "id": "7ed41c72",
   "metadata": {},
   "outputs": [],
   "source": [
    "import mlflow\n",
    "import mlflow.sklearn\n",
    "from urllib.parse import urlparse\n",
    "import mlflow.keras"
   ]
  },
  {
   "cell_type": "code",
   "execution_count": 3,
   "id": "3d2f95c3",
   "metadata": {},
   "outputs": [],
   "source": [
    "#importing the required libraries\n",
    "import pandas as pd\n",
    "from sklearn.feature_extraction.text import TfidfVectorizer, CountVectorizer\n",
    "import matplotlib.pyplot as plt\n",
    "from sklearn.naive_bayes import MultinomialNB\n",
    "from sklearn import metrics\n",
    "from sklearn.metrics import average_precision_score\n",
    "import numpy as np\n",
    "import pandas as pd\n",
    "import seaborn as sns\n",
    "import matplotlib.pyplot as plt"
   ]
  },
  {
   "cell_type": "code",
   "execution_count": 4,
   "id": "497bdc8c",
   "metadata": {},
   "outputs": [],
   "source": [
    "#loading the dataset\n",
    "train_df = pd.read_csv(\"train.csv\")\n",
    "val_df = pd.read_csv(\"validation.csv\")\n",
    "test_df = pd.read_csv(\"test.csv\")\n",
    "\n",
    "#splitting the datframe into X and y\n",
    "X_train = train_df['Message']\n",
    "y_train = train_df['Label']\n",
    "X_val = val_df['Message']\n",
    "y_val = val_df['Label']\n",
    "X_test = test_df['Message']\n",
    "y_test = test_df['Label']"
   ]
  },
  {
   "cell_type": "code",
   "execution_count": 5,
   "id": "7429b196",
   "metadata": {},
   "outputs": [
    {
     "data": {
      "text/plain": [
       "<3342x6682 sparse matrix of type '<class 'numpy.float64'>'\n",
       "\twith 44748 stored elements in Compressed Sparse Row format>"
      ]
     },
     "execution_count": 5,
     "metadata": {},
     "output_type": "execute_result"
    }
   ],
   "source": [
    "# get tf-idf values of training data\n",
    "\n",
    "tfidf = TfidfVectorizer()\n",
    "\n",
    "train_tfidf = tfidf.fit_transform(X_train)\n",
    "train_tfidf"
   ]
  },
  {
   "cell_type": "code",
   "execution_count": 6,
   "id": "2852dbcc",
   "metadata": {},
   "outputs": [
    {
     "data": {
      "text/plain": [
       "<1115x6682 sparse matrix of type '<class 'numpy.float64'>'\n",
       "\twith 13486 stored elements in Compressed Sparse Row format>"
      ]
     },
     "execution_count": 6,
     "metadata": {},
     "output_type": "execute_result"
    }
   ],
   "source": [
    "#get the tf-idf values of testing data\n",
    "test_tfidf = tfidf.transform(X_test)\n",
    "test_tfidf"
   ]
  },
  {
   "cell_type": "code",
   "execution_count": 11,
   "id": "42407017",
   "metadata": {},
   "outputs": [
    {
     "data": {
      "text/plain": [
       "<1115x6682 sparse matrix of type '<class 'numpy.float64'>'\n",
       "\twith 13584 stored elements in Compressed Sparse Row format>"
      ]
     },
     "execution_count": 11,
     "metadata": {},
     "output_type": "execute_result"
    }
   ],
   "source": [
    "#get the tf-idf values of validation data\n",
    "val_tfidf = tfidf.transform(X_val)\n",
    "val_tfidf"
   ]
  },
  {
   "cell_type": "markdown",
   "id": "e472cb27",
   "metadata": {},
   "source": [
    "## Applying Naive Bayes"
   ]
  },
  {
   "cell_type": "code",
   "execution_count": 12,
   "id": "74af8dee",
   "metadata": {},
   "outputs": [
    {
     "name": "stdout",
     "output_type": "stream",
     "text": [
      "The accuracy score of Naive Bayes is :  0.9515695067264573\n",
      "AUCPR of Naive Bayes is:  0.6810835544980325\n",
      "              precision    recall  f1-score   support\n",
      "\n",
      "         Ham       0.95      1.00      0.97       968\n",
      "        Spam       1.00      0.63      0.78       147\n",
      "\n",
      "    accuracy                           0.95      1115\n",
      "   macro avg       0.97      0.82      0.87      1115\n",
      "weighted avg       0.95      0.95      0.95      1115\n",
      "\n",
      "[[968   0]\n",
      " [ 54  93]]\n"
     ]
    }
   ],
   "source": [
    "#use Naive Bayes classifier to fit the training data\n",
    "alpha = 1\n",
    "with mlflow.start_run():\n",
    "    naive_bayes_classifier = MultinomialNB(alpha = alpha)\n",
    "    naive_bayes_classifier.fit(train_tfidf, y_train)\n",
    "\n",
    "    #predict the results on test data\n",
    "    y_pred = naive_bayes_classifier.predict(test_tfidf)\n",
    "\n",
    "    #accuracy score of Naive Bayes\n",
    "    score1 = metrics.accuracy_score(y_test, y_pred)\n",
    "    aucpr1= average_precision_score(y_test, y_pred)\n",
    "    print(\"The accuracy score of Naive Bayes is : \",score1)\n",
    "    print(\"AUCPR of Naive Bayes is: \", aucpr1)\n",
    "\n",
    "    #Confusion matrix of Naive Bayes\n",
    "\n",
    "    print(metrics.classification_report(y_test, y_pred, target_names=['Ham', 'Spam']))\n",
    "    print(metrics.confusion_matrix(test_df[\"Label\"], y_pred))\n",
    "    \n",
    "\n",
    "    mlflow.log_param(\"alpha\",alpha)\n",
    "    mlflow.log_metric(\"Accuracy\", score1)\n",
    "    mlflow.log_metric(\"AUCPR\", aucpr1)\n",
    "\n",
    "    tracking_url_type_store = urlparse(mlflow.get_tracking_uri()).scheme\n",
    "    if tracking_url_type_store != \"file\":\n",
    "\n",
    "            # Register the model\n",
    "            # There are other ways to use the Model Registry, which depends on the use case,\n",
    "            # please refer to the doc for more information:\n",
    "            # https://mlflow.org/docs/latest/model-registry.html#api-workflow\n",
    "            mlflow.sklearn.log_model(naive_bayes_classifier, \"model1\", registered_model_name=\"MultinomialNB_SMS\")\n",
    "    else:\n",
    "            mlflow.sklearn.log_model(naive_bayes_classifier, \"model1\")"
   ]
  },
  {
   "cell_type": "markdown",
   "id": "433951d3",
   "metadata": {},
   "source": [
    "## Applying SVM"
   ]
  },
  {
   "cell_type": "code",
   "execution_count": 13,
   "id": "d3b2f692",
   "metadata": {},
   "outputs": [
    {
     "name": "stdout",
     "output_type": "stream",
     "text": [
      "The accuracy score of SVM is :  0.9811659192825112\n",
      "The AUCPR of SVM is:  0.8743925303822805\n",
      "              precision    recall  f1-score   support\n",
      "\n",
      "         Ham       0.98      1.00      0.99       968\n",
      "        Spam       0.98      0.87      0.92       147\n",
      "\n",
      "    accuracy                           0.98      1115\n",
      "   macro avg       0.98      0.93      0.96      1115\n",
      "weighted avg       0.98      0.98      0.98      1115\n",
      "\n",
      "[[966   2]\n",
      " [ 19 128]]\n"
     ]
    }
   ],
   "source": [
    "from sklearn import svm\n",
    "\n",
    "clf = svm.SVC()\n",
    "clf.fit(train_tfidf,y_train)\n",
    "y_pred_svm = clf.predict(test_tfidf)\n",
    "\n",
    "#accuracy score of SVM\n",
    "score2 = metrics.accuracy_score(y_test, y_pred_svm)\n",
    "aucpr2 = average_precision_score(y_test, y_pred_svm)\n",
    "print(\"The accuracy score of SVM is : \",score2)\n",
    "print(\"The AUCPR of SVM is: \", aucpr2)\n",
    "\n",
    "#Confusion matrix of SVM\n",
    "\n",
    "print(metrics.classification_report(y_test, y_pred_svm, target_names=['Ham', 'Spam']))\n",
    "print(metrics.confusion_matrix(test_df[\"Label\"], y_pred_svm))"
   ]
  },
  {
   "cell_type": "markdown",
   "id": "8141c154",
   "metadata": {},
   "source": [
    "#### Hyperparameter Tuning for SVM"
   ]
  },
  {
   "cell_type": "code",
   "execution_count": 14,
   "id": "a23fadb5",
   "metadata": {},
   "outputs": [
    {
     "name": "stdout",
     "output_type": "stream",
     "text": [
      "Fitting 5 folds for each of 8 candidates, totalling 40 fits\n",
      "[CV 1/5] END ..............C=0.1, kernel=linear;, score=0.900 total time=   0.3s\n",
      "[CV 2/5] END ..............C=0.1, kernel=linear;, score=0.895 total time=   0.3s\n",
      "[CV 3/5] END ..............C=0.1, kernel=linear;, score=0.906 total time=   0.3s\n",
      "[CV 4/5] END ..............C=0.1, kernel=linear;, score=0.907 total time=   0.3s\n",
      "[CV 5/5] END ..............C=0.1, kernel=linear;, score=0.886 total time=   0.3s\n",
      "[CV 1/5] END .................C=0.1, kernel=rbf;, score=0.867 total time=   0.4s\n",
      "[CV 2/5] END .................C=0.1, kernel=rbf;, score=0.865 total time=   0.4s\n",
      "[CV 3/5] END .................C=0.1, kernel=rbf;, score=0.867 total time=   0.5s\n",
      "[CV 4/5] END .................C=0.1, kernel=rbf;, score=0.867 total time=   0.7s\n",
      "[CV 5/5] END .................C=0.1, kernel=rbf;, score=0.867 total time=   0.5s\n",
      "[CV 1/5] END ................C=1, kernel=linear;, score=0.981 total time=   0.2s\n",
      "[CV 2/5] END ................C=1, kernel=linear;, score=0.978 total time=   0.2s\n",
      "[CV 3/5] END ................C=1, kernel=linear;, score=0.985 total time=   0.2s\n",
      "[CV 4/5] END ................C=1, kernel=linear;, score=0.981 total time=   0.2s\n",
      "[CV 5/5] END ................C=1, kernel=linear;, score=0.970 total time=   0.2s\n",
      "[CV 1/5] END ...................C=1, kernel=rbf;, score=0.966 total time=   0.6s\n",
      "[CV 2/5] END ...................C=1, kernel=rbf;, score=0.969 total time=   0.6s\n",
      "[CV 3/5] END ...................C=1, kernel=rbf;, score=0.976 total time=   2.1s\n",
      "[CV 4/5] END ...................C=1, kernel=rbf;, score=0.979 total time=   0.8s\n",
      "[CV 5/5] END ...................C=1, kernel=rbf;, score=0.961 total time=   1.0s\n",
      "[CV 1/5] END ...............C=10, kernel=linear;, score=0.982 total time=   0.4s\n",
      "[CV 2/5] END ...............C=10, kernel=linear;, score=0.979 total time=   0.3s\n",
      "[CV 3/5] END ...............C=10, kernel=linear;, score=0.985 total time=   0.4s\n",
      "[CV 4/5] END ...............C=10, kernel=linear;, score=0.979 total time=   0.3s\n",
      "[CV 5/5] END ...............C=10, kernel=linear;, score=0.973 total time=   0.3s\n",
      "[CV 1/5] END ..................C=10, kernel=rbf;, score=0.972 total time=   0.7s\n",
      "[CV 2/5] END ..................C=10, kernel=rbf;, score=0.967 total time=   0.7s\n",
      "[CV 3/5] END ..................C=10, kernel=rbf;, score=0.981 total time=   0.7s\n",
      "[CV 4/5] END ..................C=10, kernel=rbf;, score=0.982 total time=   0.7s\n",
      "[CV 5/5] END ..................C=10, kernel=rbf;, score=0.967 total time=   1.9s\n",
      "[CV 1/5] END ..............C=100, kernel=linear;, score=0.981 total time=   1.3s\n",
      "[CV 2/5] END ..............C=100, kernel=linear;, score=0.979 total time=   0.3s\n",
      "[CV 3/5] END ..............C=100, kernel=linear;, score=0.985 total time=   0.4s\n",
      "[CV 4/5] END ..............C=100, kernel=linear;, score=0.979 total time=   0.3s\n",
      "[CV 5/5] END ..............C=100, kernel=linear;, score=0.973 total time=   0.5s\n",
      "[CV 1/5] END .................C=100, kernel=rbf;, score=0.972 total time=   1.2s\n",
      "[CV 2/5] END .................C=100, kernel=rbf;, score=0.967 total time=   1.2s\n",
      "[CV 3/5] END .................C=100, kernel=rbf;, score=0.981 total time=   1.1s\n",
      "[CV 4/5] END .................C=100, kernel=rbf;, score=0.982 total time=   1.2s\n",
      "[CV 5/5] END .................C=100, kernel=rbf;, score=0.967 total time=   1.3s\n"
     ]
    }
   ],
   "source": [
    "from sklearn.model_selection import GridSearchCV\n",
    "param_grid={\"C\":[0.1, 1, 10, 100], \"kernel\":(\"linear\", \"rbf\")}\n",
    "grid= GridSearchCV(clf, param_grid, refit=True, verbose=3)\n",
    "grid.fit(train_tfidf,y_train)\n",
    "y_pred_grid = grid.predict(val_tfidf)"
   ]
  },
  {
   "cell_type": "code",
   "execution_count": 15,
   "id": "bdd37b01",
   "metadata": {},
   "outputs": [
    {
     "name": "stdout",
     "output_type": "stream",
     "text": [
      "The accuracy score of SVM is :  0.9829596412556054\n",
      "              precision    recall  f1-score   support\n",
      "\n",
      "         Ham       0.98      1.00      0.99       961\n",
      "        Spam       0.97      0.90      0.94       154\n",
      "\n",
      "    accuracy                           0.98      1115\n",
      "   macro avg       0.98      0.95      0.96      1115\n",
      "weighted avg       0.98      0.98      0.98      1115\n",
      "\n",
      "[[957   4]\n",
      " [ 15 139]]\n"
     ]
    }
   ],
   "source": [
    "#accuracy score of SVM\n",
    "score2 = metrics.accuracy_score(y_val, y_pred_grid)\n",
    "print(\"The accuracy score of SVM is : \",score2)\n",
    "\n",
    "#Confusion matrix of SVM\n",
    "\n",
    "print(metrics.classification_report(y_val, y_pred_grid, target_names=['Ham', 'Spam']))\n",
    "print(metrics.confusion_matrix(val_df[\"Label\"], y_pred_grid))"
   ]
  },
  {
   "cell_type": "code",
   "execution_count": 16,
   "id": "81bfb3a6",
   "metadata": {},
   "outputs": [
    {
     "data": {
      "text/plain": [
       "{'C': 10, 'kernel': 'linear'}"
      ]
     },
     "execution_count": 16,
     "metadata": {},
     "output_type": "execute_result"
    }
   ],
   "source": [
    "grid.best_params_"
   ]
  },
  {
   "cell_type": "code",
   "execution_count": 17,
   "id": "bae1fb98",
   "metadata": {},
   "outputs": [
    {
     "name": "stdout",
     "output_type": "stream",
     "text": [
      "The accuracy score of SVM is :  0.9883408071748879\n",
      "The AUCPR of SVM is:  0.9216272770237621\n",
      "              precision    recall  f1-score   support\n",
      "\n",
      "         Ham       0.99      1.00      0.99       968\n",
      "        Spam       0.99      0.93      0.95       147\n",
      "\n",
      "    accuracy                           0.99      1115\n",
      "   macro avg       0.99      0.96      0.97      1115\n",
      "weighted avg       0.99      0.99      0.99      1115\n",
      "\n",
      "[[966   2]\n",
      " [ 11 136]]\n"
     ]
    }
   ],
   "source": [
    "#fitting SVM after hyperparameter tuning\n",
    "\n",
    "C = 10\n",
    "kernel = 'linear'\n",
    "#fitting SVM\n",
    "with mlflow.start_run():\n",
    "    clf = svm.SVC(C=C, kernel =kernel)\n",
    "    clf.fit(train_tfidf,y_train)\n",
    "    y_pred_svm = clf.predict(test_tfidf)\n",
    "\n",
    "    #accuracy score of SVM\n",
    "    score2 = metrics.accuracy_score(y_test, y_pred_svm)\n",
    "    aucpr2 = average_precision_score(y_test, y_pred_svm)\n",
    "    print(\"The accuracy score of SVM is : \",score2)\n",
    "    print(\"The AUCPR of SVM is: \", aucpr2)\n",
    "\n",
    "    #Confusion matrix of SVM\n",
    "\n",
    "    print(metrics.classification_report(y_test, y_pred_svm, target_names=['Ham', 'Spam']))\n",
    "    print(metrics.confusion_matrix(test_df[\"Label\"], y_pred_svm))\n",
    "\n",
    "    mlflow.log_param(\"C\",C)\n",
    "    mlflow.log_param(\"kernel\",kernel)\n",
    "    mlflow.log_metric(\"Accuracy\", score2)\n",
    "    mlflow.log_metric(\"AUCPR\", aucpr2)\n",
    "\n",
    "    tracking_url_type_store = urlparse(mlflow.get_tracking_uri()).scheme\n",
    "    if tracking_url_type_store != \"file\":\n",
    "\n",
    "            # Register the model\n",
    "            # There are other ways to use the Model Registry, which depends on the use case,\n",
    "            # please refer to the doc for more information:\n",
    "            # https://mlflow.org/docs/latest/model-registry.html#api-workflow\n",
    "            mlflow.sklearn.log_model(clf, \"model2\", registered_model_name=\"SVM_SMS\")\n",
    "    else:\n",
    "            mlflow.sklearn.log_model(clf, \"model2\")"
   ]
  },
  {
   "cell_type": "markdown",
   "id": "c4cade37",
   "metadata": {},
   "source": [
    "## Neural Network"
   ]
  },
  {
   "cell_type": "code",
   "execution_count": 18,
   "id": "b02ad678",
   "metadata": {},
   "outputs": [],
   "source": [
    "#Importing the required libraries\n",
    "import tensorflow as tf\n",
    "from tensorflow.keras.preprocessing.text import Tokenizer\n",
    "from tensorflow.keras.preprocessing.sequence import pad_sequences\n",
    "from tensorflow.keras.callbacks import EarlyStopping\n",
    "from tensorflow.keras.models import Sequential\n",
    "from tensorflow.keras.layers import Embedding, GlobalAveragePooling1D, Dense, Dropout, LSTM, Bidirectional"
   ]
  },
  {
   "cell_type": "code",
   "execution_count": 19,
   "id": "b4a7bcb0",
   "metadata": {},
   "outputs": [],
   "source": [
    "# Defining pre-processing hyperparameters\n",
    "max_len = 50 \n",
    "trunc_type = \"post\" \n",
    "padding_type = \"post\" \n",
    "oov_tok = \"<OOV>\" \n",
    "vocab_size = 500\n",
    "embeding_dim = 16\n",
    "n_dense = 24\n",
    "\n",
    "#Tokenizing training data\n",
    "tokenizer = Tokenizer(500)\n",
    "tokenizer.fit_on_texts(X_train)"
   ]
  },
  {
   "cell_type": "code",
   "execution_count": 20,
   "id": "11ea7fc1",
   "metadata": {},
   "outputs": [],
   "source": [
    "# Sequencing and padding on training and testing \n",
    "train_seq = tokenizer.texts_to_sequences(X_train)\n",
    "train_pad = pad_sequences(train_seq, maxlen = max_len)\n",
    "val_seq = tokenizer.texts_to_sequences(X_val)\n",
    "val_pad = pad_sequences(val_seq, maxlen = max_len)\n",
    "test_seq = tokenizer.texts_to_sequences(X_test)\n",
    "test_pad = pad_sequences(test_seq, maxlen = max_len)"
   ]
  },
  {
   "cell_type": "code",
   "execution_count": 21,
   "id": "25b2e18a",
   "metadata": {},
   "outputs": [],
   "source": [
    "#Creating the neural network\n",
    "model = Sequential()\n",
    "model.add(Embedding(vocab_size, embeding_dim, input_length=max_len))\n",
    "model.add(GlobalAveragePooling1D())\n",
    "model.add(Dense(24, activation='relu'))\n",
    "model.add(Dense(1, activation='sigmoid'))"
   ]
  },
  {
   "cell_type": "code",
   "execution_count": 23,
   "id": "eb6c1261",
   "metadata": {},
   "outputs": [
    {
     "name": "stdout",
     "output_type": "stream",
     "text": [
      "Epoch 1/30\n",
      "105/105 [==============================] - 1s 3ms/step - loss: 0.0110 - accuracy: 0.9964 - val_loss: 0.0779 - val_accuracy: 0.9812\n",
      "Epoch 2/30\n",
      "105/105 [==============================] - 0s 2ms/step - loss: 0.0107 - accuracy: 0.9967 - val_loss: 0.0774 - val_accuracy: 0.9821\n",
      "Epoch 3/30\n",
      "105/105 [==============================] - 0s 3ms/step - loss: 0.0105 - accuracy: 0.9967 - val_loss: 0.0811 - val_accuracy: 0.9830\n",
      "Epoch 4/30\n",
      "105/105 [==============================] - 0s 2ms/step - loss: 0.0107 - accuracy: 0.9964 - val_loss: 0.0828 - val_accuracy: 0.9794\n",
      "Epoch 5/30\n",
      "105/105 [==============================] - 0s 2ms/step - loss: 0.0083 - accuracy: 0.9982 - val_loss: 0.0852 - val_accuracy: 0.9830\n",
      "Epoch 6/30\n",
      "105/105 [==============================] - 0s 2ms/step - loss: 0.0078 - accuracy: 0.9973 - val_loss: 0.0873 - val_accuracy: 0.9830\n",
      "Epoch 7/30\n",
      "105/105 [==============================] - 0s 2ms/step - loss: 0.0071 - accuracy: 0.9985 - val_loss: 0.0889 - val_accuracy: 0.9803\n",
      "Epoch 8/30\n",
      "105/105 [==============================] - 0s 2ms/step - loss: 0.0064 - accuracy: 0.9985 - val_loss: 0.0907 - val_accuracy: 0.9803\n",
      "Epoch 9/30\n",
      "105/105 [==============================] - 0s 2ms/step - loss: 0.0063 - accuracy: 0.9982 - val_loss: 0.0932 - val_accuracy: 0.9803\n",
      "Epoch 10/30\n",
      "105/105 [==============================] - 0s 2ms/step - loss: 0.0057 - accuracy: 0.9982 - val_loss: 0.0944 - val_accuracy: 0.9830\n",
      "Epoch 11/30\n",
      "105/105 [==============================] - 0s 2ms/step - loss: 0.0055 - accuracy: 0.9988 - val_loss: 0.0971 - val_accuracy: 0.9812\n",
      "Epoch 12/30\n",
      "105/105 [==============================] - 0s 2ms/step - loss: 0.0047 - accuracy: 0.9991 - val_loss: 0.0991 - val_accuracy: 0.9830\n",
      "Epoch 13/30\n",
      "105/105 [==============================] - 0s 2ms/step - loss: 0.0044 - accuracy: 0.9994 - val_loss: 0.1008 - val_accuracy: 0.9839\n",
      "Epoch 14/30\n",
      "105/105 [==============================] - 0s 2ms/step - loss: 0.0043 - accuracy: 0.9988 - val_loss: 0.1025 - val_accuracy: 0.9803\n",
      "Epoch 15/30\n",
      "105/105 [==============================] - 0s 2ms/step - loss: 0.0039 - accuracy: 0.9991 - val_loss: 0.1066 - val_accuracy: 0.9785\n",
      "Epoch 16/30\n",
      "105/105 [==============================] - 0s 2ms/step - loss: 0.0038 - accuracy: 0.9994 - val_loss: 0.1062 - val_accuracy: 0.9830\n",
      "Epoch 17/30\n",
      "105/105 [==============================] - 0s 2ms/step - loss: 0.0035 - accuracy: 0.9997 - val_loss: 0.1087 - val_accuracy: 0.9839\n",
      "Epoch 18/30\n",
      "105/105 [==============================] - 0s 2ms/step - loss: 0.0037 - accuracy: 0.9994 - val_loss: 0.1100 - val_accuracy: 0.9848\n",
      "Epoch 19/30\n",
      "105/105 [==============================] - 0s 2ms/step - loss: 0.0033 - accuracy: 0.9994 - val_loss: 0.1131 - val_accuracy: 0.9848\n",
      "Epoch 20/30\n",
      "105/105 [==============================] - 0s 2ms/step - loss: 0.0029 - accuracy: 0.9994 - val_loss: 0.1150 - val_accuracy: 0.9848\n",
      "Epoch 21/30\n",
      "105/105 [==============================] - 0s 2ms/step - loss: 0.0030 - accuracy: 0.9997 - val_loss: 0.1165 - val_accuracy: 0.9830\n",
      "Epoch 22/30\n",
      "105/105 [==============================] - 0s 2ms/step - loss: 0.0027 - accuracy: 0.9997 - val_loss: 0.1191 - val_accuracy: 0.9848\n",
      "Epoch 23/30\n",
      "105/105 [==============================] - 0s 2ms/step - loss: 0.0027 - accuracy: 0.9994 - val_loss: 0.1222 - val_accuracy: 0.9830\n",
      "Epoch 24/30\n",
      "105/105 [==============================] - 0s 2ms/step - loss: 0.0025 - accuracy: 0.9997 - val_loss: 0.1223 - val_accuracy: 0.9812\n",
      "Epoch 25/30\n",
      "105/105 [==============================] - 0s 2ms/step - loss: 0.0021 - accuracy: 0.9997 - val_loss: 0.1273 - val_accuracy: 0.9821\n",
      "Epoch 26/30\n",
      "105/105 [==============================] - 0s 2ms/step - loss: 0.0023 - accuracy: 0.9997 - val_loss: 0.1261 - val_accuracy: 0.9821\n",
      "Epoch 27/30\n",
      "105/105 [==============================] - 0s 2ms/step - loss: 0.0020 - accuracy: 0.9997 - val_loss: 0.1284 - val_accuracy: 0.9821\n",
      "Epoch 28/30\n",
      "105/105 [==============================] - 0s 2ms/step - loss: 0.0018 - accuracy: 0.9997 - val_loss: 0.1305 - val_accuracy: 0.9839\n",
      "Epoch 29/30\n",
      "105/105 [==============================] - 0s 2ms/step - loss: 0.0019 - accuracy: 0.9997 - val_loss: 0.1324 - val_accuracy: 0.9830\n",
      "Epoch 30/30\n",
      "105/105 [==============================] - 0s 3ms/step - loss: 0.0019 - accuracy: 0.9997 - val_loss: 0.1340 - val_accuracy: 0.9830\n",
      "35/35 [==============================] - 0s 2ms/step - loss: 0.1340 - accuracy: 0.9830\n"
     ]
    },
    {
     "name": "stderr",
     "output_type": "stream",
     "text": [
      "2023/02/19 19:31:01 WARNING mlflow.tensorflow: You are saving a TensorFlow Core model or Keras model without a signature. Inference with mlflow.pyfunc.spark_udf() will not work unless the model's pyfunc representation accepts pandas DataFrames as inference inputs.\n",
      "WARNING:absl:Found untraced functions such as _update_step_xla while saving (showing 1 of 1). These functions will not be directly callable after loading.\n"
     ]
    },
    {
     "name": "stdout",
     "output_type": "stream",
     "text": [
      "INFO:tensorflow:Assets written to: C:\\Users\\SUCHET~1\\AppData\\Local\\Temp\\tmpesahw466\\model\\data\\model\\assets\n"
     ]
    },
    {
     "name": "stderr",
     "output_type": "stream",
     "text": [
      "INFO:tensorflow:Assets written to: C:\\Users\\SUCHET~1\\AppData\\Local\\Temp\\tmpesahw466\\model\\data\\model\\assets\n"
     ]
    },
    {
     "name": "stdout",
     "output_type": "stream",
     "text": [
      "Keras weights file (<HDF5 file \"variables.h5\" (mode r+)>) saving:\n",
      "...layers\\dense\n",
      "......vars\n",
      ".........0\n",
      ".........1\n",
      "...layers\\dense_1\n",
      "......vars\n",
      ".........0\n",
      ".........1\n",
      "...layers\\embedding\n",
      "......vars\n",
      ".........0\n",
      "...layers\\global_average_pooling1d\n",
      "......vars\n",
      "...metrics\\mean\n",
      "......vars\n",
      ".........0\n",
      ".........1\n",
      "...metrics\\mean_metric_wrapper\n",
      "......vars\n",
      ".........0\n",
      ".........1\n",
      "...optimizer\n",
      "......vars\n",
      ".........0\n",
      ".........1\n",
      ".........10\n",
      ".........2\n",
      ".........3\n",
      ".........4\n",
      ".........5\n",
      ".........6\n",
      ".........7\n",
      ".........8\n",
      ".........9\n",
      "...vars\n",
      "Keras model archive saving:\n",
      "File Name                                             Modified             Size\n",
      "config.json                                    2023-02-19 19:31:07         1972\n",
      "metadata.json                                  2023-02-19 19:31:07           64\n",
      "variables.h5                                   2023-02-19 19:31:07       124548\n"
     ]
    }
   ],
   "source": [
    "# fitting the model to our data\n",
    "\n",
    "with mlflow.start_run():\n",
    "    model.compile(loss='binary_crossentropy',optimizer='adam' ,metrics=['accuracy'])\n",
    "    model.fit(train_pad, y_train, epochs=30, validation_data=(val_pad, y_val))\n",
    "    # Model performance on validation data\n",
    "    score3 = model.evaluate(val_pad, y_val)\n",
    "\n",
    "    mlflow.log_param(\"activation function\", \"relu\")\n",
    "    mlflow.log_metric(\"test loss\", score3[0])\n",
    "    mlflow.log_metric(\"test accuracy\", score3[1])\n",
    "    \n",
    "    # Log Model\n",
    "    mlflow.keras.log_model(model, \"model3\")\n",
    "\n",
    "    \n",
    "    tracking_url_type_store = urlparse(mlflow.get_tracking_uri()).scheme\n",
    "    if tracking_url_type_store != \"file\":\n",
    "\n",
    "            # Register the model\n",
    "            # There are other ways to use the Model Registry, which depends on the use case,\n",
    "            # please refer to the doc for more information:\n",
    "            # https://mlflow.org/docs/latest/model-registry.html#api-workflow\n",
    "            mlflow.sklearn.log_model(model, \"model3\", registered_model_name=\"NN_SMS\")\n",
    "    else:\n",
    "            mlflow.sklearn.log_model(model, \"model3\")"
   ]
  },
  {
   "cell_type": "markdown",
   "id": "9b4b79a4",
   "metadata": {},
   "source": [
    "#### Hyperparameter tuning for Neural Network"
   ]
  },
  {
   "cell_type": "code",
   "execution_count": 24,
   "id": "5fc0ea8c",
   "metadata": {},
   "outputs": [
    {
     "name": "stdout",
     "output_type": "stream",
     "text": [
      "Epoch 1/30\n",
      "105/105 [==============================] - 1s 3ms/step - loss: 0.0015 - accuracy: 0.9997 - val_loss: 0.1344 - val_accuracy: 0.9839\n",
      "Epoch 2/30\n",
      "105/105 [==============================] - 0s 2ms/step - loss: 0.0014 - accuracy: 0.9997 - val_loss: 0.1344 - val_accuracy: 0.9839\n",
      "Epoch 3/30\n",
      "105/105 [==============================] - 0s 2ms/step - loss: 0.0014 - accuracy: 0.9997 - val_loss: 0.1340 - val_accuracy: 0.9821\n",
      "Epoch 4/30\n",
      "105/105 [==============================] - 0s 2ms/step - loss: 0.0017 - accuracy: 0.9997 - val_loss: 0.1343 - val_accuracy: 0.9830\n",
      "Epoch 5/30\n",
      "105/105 [==============================] - 0s 2ms/step - loss: 0.0016 - accuracy: 0.9997 - val_loss: 0.1348 - val_accuracy: 0.9839\n",
      "Epoch 6/30\n",
      "105/105 [==============================] - 0s 2ms/step - loss: 0.0017 - accuracy: 0.9997 - val_loss: 0.1346 - val_accuracy: 0.9839\n",
      "Epoch 7/30\n",
      "105/105 [==============================] - 0s 2ms/step - loss: 0.0016 - accuracy: 0.9997 - val_loss: 0.1341 - val_accuracy: 0.9821\n",
      "Epoch 8/30\n",
      "105/105 [==============================] - 0s 2ms/step - loss: 0.0016 - accuracy: 0.9997 - val_loss: 0.1342 - val_accuracy: 0.9830\n",
      "Epoch 9/30\n",
      "105/105 [==============================] - 0s 2ms/step - loss: 0.0017 - accuracy: 0.9997 - val_loss: 0.1343 - val_accuracy: 0.9830\n",
      "Epoch 10/30\n",
      "105/105 [==============================] - 0s 2ms/step - loss: 0.0015 - accuracy: 0.9997 - val_loss: 0.1342 - val_accuracy: 0.9821\n",
      "Epoch 11/30\n",
      "105/105 [==============================] - 0s 2ms/step - loss: 0.0015 - accuracy: 0.9997 - val_loss: 0.1345 - val_accuracy: 0.9812\n",
      "Epoch 12/30\n",
      "105/105 [==============================] - 0s 2ms/step - loss: 0.0014 - accuracy: 0.9997 - val_loss: 0.1343 - val_accuracy: 0.9830\n",
      "Epoch 13/30\n",
      "105/105 [==============================] - 0s 2ms/step - loss: 0.0015 - accuracy: 0.9997 - val_loss: 0.1350 - val_accuracy: 0.9839\n",
      "Epoch 14/30\n",
      "105/105 [==============================] - 0s 2ms/step - loss: 0.0014 - accuracy: 0.9997 - val_loss: 0.1344 - val_accuracy: 0.9830\n",
      "Epoch 15/30\n",
      "105/105 [==============================] - 0s 2ms/step - loss: 0.0015 - accuracy: 0.9997 - val_loss: 0.1407 - val_accuracy: 0.9767\n",
      "Epoch 16/30\n",
      "105/105 [==============================] - 0s 2ms/step - loss: 0.0012 - accuracy: 1.0000 - val_loss: 0.1343 - val_accuracy: 0.9812\n",
      "Epoch 17/30\n",
      "105/105 [==============================] - 0s 2ms/step - loss: 0.0014 - accuracy: 0.9997 - val_loss: 0.1360 - val_accuracy: 0.9812\n",
      "Epoch 18/30\n",
      "105/105 [==============================] - 0s 2ms/step - loss: 0.0015 - accuracy: 0.9997 - val_loss: 0.1344 - val_accuracy: 0.9812\n",
      "Epoch 19/30\n",
      "105/105 [==============================] - 0s 2ms/step - loss: 0.0017 - accuracy: 0.9997 - val_loss: 0.1354 - val_accuracy: 0.9812\n",
      "Epoch 20/30\n",
      "105/105 [==============================] - 0s 2ms/step - loss: 0.0016 - accuracy: 0.9997 - val_loss: 0.1344 - val_accuracy: 0.9830\n",
      "Epoch 21/30\n",
      "105/105 [==============================] - 0s 2ms/step - loss: 0.0015 - accuracy: 0.9997 - val_loss: 0.1345 - val_accuracy: 0.9830\n",
      "Epoch 22/30\n",
      "105/105 [==============================] - 0s 2ms/step - loss: 0.0016 - accuracy: 0.9997 - val_loss: 0.1344 - val_accuracy: 0.9821\n",
      "Epoch 23/30\n",
      "105/105 [==============================] - 0s 2ms/step - loss: 0.0015 - accuracy: 0.9994 - val_loss: 0.1345 - val_accuracy: 0.9830\n",
      "Epoch 24/30\n",
      "105/105 [==============================] - 0s 2ms/step - loss: 0.0015 - accuracy: 0.9997 - val_loss: 0.1345 - val_accuracy: 0.9830\n",
      "Epoch 25/30\n",
      "105/105 [==============================] - 0s 2ms/step - loss: 0.0014 - accuracy: 0.9997 - val_loss: 0.1358 - val_accuracy: 0.9812\n",
      "Epoch 26/30\n",
      "105/105 [==============================] - 0s 2ms/step - loss: 0.0016 - accuracy: 0.9997 - val_loss: 0.1344 - val_accuracy: 0.9821\n",
      "Epoch 27/30\n",
      "105/105 [==============================] - 0s 2ms/step - loss: 0.0014 - accuracy: 0.9997 - val_loss: 0.1371 - val_accuracy: 0.9830\n",
      "Epoch 28/30\n",
      "105/105 [==============================] - 0s 2ms/step - loss: 0.0017 - accuracy: 0.9997 - val_loss: 0.1346 - val_accuracy: 0.9812\n",
      "Epoch 29/30\n",
      "105/105 [==============================] - 0s 2ms/step - loss: 0.0015 - accuracy: 0.9997 - val_loss: 0.1345 - val_accuracy: 0.9821\n",
      "Epoch 30/30\n",
      "105/105 [==============================] - 0s 2ms/step - loss: 0.0014 - accuracy: 0.9997 - val_loss: 0.1350 - val_accuracy: 0.9839\n"
     ]
    }
   ],
   "source": [
    "#Changing the loss function\n",
    "# fitting the model on our data\n",
    "model.compile(loss='binary_crossentropy',optimizer='SGD' ,metrics=['accuracy'])\n",
    "fit_model = model.fit(train_pad, y_train, epochs=30, validation_data=(val_pad, y_val))"
   ]
  },
  {
   "cell_type": "code",
   "execution_count": 25,
   "id": "470e5f77",
   "metadata": {},
   "outputs": [
    {
     "name": "stdout",
     "output_type": "stream",
     "text": [
      "35/35 [==============================] - 0s 1ms/step - loss: 0.1350 - accuracy: 0.9839\n"
     ]
    },
    {
     "data": {
      "text/plain": [
       "[0.13496768474578857, 0.9838564991950989]"
      ]
     },
     "execution_count": 25,
     "metadata": {},
     "output_type": "execute_result"
    }
   ],
   "source": [
    "# Model performance on validation data \n",
    "model.evaluate(val_pad, y_val)"
   ]
  },
  {
   "cell_type": "code",
   "execution_count": 26,
   "id": "60ba0d24",
   "metadata": {},
   "outputs": [
    {
     "name": "stdout",
     "output_type": "stream",
     "text": [
      "Epoch 1/50\n",
      "105/105 [==============================] - 1s 3ms/step - loss: 0.0019 - accuracy: 0.9997 - val_loss: 0.1369 - val_accuracy: 0.9839\n",
      "Epoch 2/50\n",
      "105/105 [==============================] - 0s 2ms/step - loss: 0.0015 - accuracy: 0.9997 - val_loss: 0.1421 - val_accuracy: 0.9830\n",
      "Epoch 3/50\n",
      "105/105 [==============================] - 0s 2ms/step - loss: 0.0015 - accuracy: 0.9997 - val_loss: 0.1452 - val_accuracy: 0.9803\n",
      "Epoch 4/50\n",
      "105/105 [==============================] - 0s 2ms/step - loss: 0.0013 - accuracy: 1.0000 - val_loss: 0.1461 - val_accuracy: 0.9812\n",
      "Epoch 5/50\n",
      "105/105 [==============================] - 0s 2ms/step - loss: 0.0013 - accuracy: 0.9997 - val_loss: 0.1491 - val_accuracy: 0.9821\n",
      "Epoch 6/50\n",
      "105/105 [==============================] - 0s 2ms/step - loss: 0.0013 - accuracy: 0.9997 - val_loss: 0.1509 - val_accuracy: 0.9812\n",
      "Epoch 7/50\n",
      "105/105 [==============================] - 0s 2ms/step - loss: 9.9219e-04 - accuracy: 0.9997 - val_loss: 0.1544 - val_accuracy: 0.9812\n",
      "Epoch 8/50\n",
      "105/105 [==============================] - 0s 2ms/step - loss: 7.2107e-04 - accuracy: 0.9997 - val_loss: 0.1568 - val_accuracy: 0.9803\n",
      "Epoch 9/50\n",
      "105/105 [==============================] - 0s 2ms/step - loss: 0.0010 - accuracy: 0.9997 - val_loss: 0.1581 - val_accuracy: 0.9794\n",
      "Epoch 10/50\n",
      "105/105 [==============================] - 0s 2ms/step - loss: 8.4561e-04 - accuracy: 0.9997 - val_loss: 0.1617 - val_accuracy: 0.9821\n",
      "Epoch 11/50\n",
      "105/105 [==============================] - 0s 2ms/step - loss: 7.7784e-04 - accuracy: 1.0000 - val_loss: 0.1635 - val_accuracy: 0.9803\n",
      "Epoch 12/50\n",
      "105/105 [==============================] - 0s 2ms/step - loss: 7.6470e-04 - accuracy: 0.9997 - val_loss: 0.1672 - val_accuracy: 0.9794\n",
      "Epoch 13/50\n",
      "105/105 [==============================] - 0s 2ms/step - loss: 6.0373e-04 - accuracy: 1.0000 - val_loss: 0.1698 - val_accuracy: 0.9785\n",
      "Epoch 14/50\n",
      "105/105 [==============================] - 0s 2ms/step - loss: 7.5352e-04 - accuracy: 0.9997 - val_loss: 0.1712 - val_accuracy: 0.9821\n",
      "Epoch 15/50\n",
      "105/105 [==============================] - 0s 2ms/step - loss: 5.8457e-04 - accuracy: 1.0000 - val_loss: 0.1718 - val_accuracy: 0.9794\n",
      "Epoch 16/50\n",
      "105/105 [==============================] - 0s 2ms/step - loss: 4.1039e-04 - accuracy: 1.0000 - val_loss: 0.1729 - val_accuracy: 0.9803\n",
      "Epoch 17/50\n",
      "105/105 [==============================] - 0s 2ms/step - loss: 5.1844e-04 - accuracy: 1.0000 - val_loss: 0.1808 - val_accuracy: 0.9830\n",
      "Epoch 18/50\n",
      "105/105 [==============================] - 0s 2ms/step - loss: 5.0037e-04 - accuracy: 1.0000 - val_loss: 0.1775 - val_accuracy: 0.9785\n",
      "Epoch 19/50\n",
      "105/105 [==============================] - 0s 2ms/step - loss: 3.5729e-04 - accuracy: 1.0000 - val_loss: 0.1816 - val_accuracy: 0.9785\n",
      "Epoch 20/50\n",
      "105/105 [==============================] - 0s 2ms/step - loss: 3.8087e-04 - accuracy: 1.0000 - val_loss: 0.1822 - val_accuracy: 0.9785\n",
      "Epoch 21/50\n",
      "105/105 [==============================] - 0s 2ms/step - loss: 5.3071e-04 - accuracy: 0.9997 - val_loss: 0.1848 - val_accuracy: 0.9821\n",
      "Epoch 22/50\n",
      "105/105 [==============================] - 0s 2ms/step - loss: 2.6282e-04 - accuracy: 1.0000 - val_loss: 0.1850 - val_accuracy: 0.9794\n",
      "Epoch 23/50\n",
      "105/105 [==============================] - 0s 2ms/step - loss: 3.4051e-04 - accuracy: 1.0000 - val_loss: 0.1869 - val_accuracy: 0.9794\n",
      "Epoch 24/50\n",
      "105/105 [==============================] - 0s 2ms/step - loss: 2.7541e-04 - accuracy: 1.0000 - val_loss: 0.1904 - val_accuracy: 0.9803\n",
      "Epoch 25/50\n",
      "105/105 [==============================] - 0s 2ms/step - loss: 2.8062e-04 - accuracy: 1.0000 - val_loss: 0.1935 - val_accuracy: 0.9785\n",
      "Epoch 26/50\n",
      "105/105 [==============================] - 0s 2ms/step - loss: 3.9042e-04 - accuracy: 1.0000 - val_loss: 0.1952 - val_accuracy: 0.9803\n",
      "Epoch 27/50\n",
      "105/105 [==============================] - 0s 2ms/step - loss: 2.0134e-04 - accuracy: 1.0000 - val_loss: 0.1963 - val_accuracy: 0.9803\n",
      "Epoch 28/50\n",
      "105/105 [==============================] - 0s 2ms/step - loss: 2.1595e-04 - accuracy: 1.0000 - val_loss: 0.1986 - val_accuracy: 0.9803\n",
      "Epoch 29/50\n",
      "105/105 [==============================] - 0s 2ms/step - loss: 2.0381e-04 - accuracy: 1.0000 - val_loss: 0.1989 - val_accuracy: 0.9803\n",
      "Epoch 30/50\n",
      "105/105 [==============================] - 0s 2ms/step - loss: 1.8370e-04 - accuracy: 1.0000 - val_loss: 0.2003 - val_accuracy: 0.9785\n",
      "Epoch 31/50\n",
      "105/105 [==============================] - 0s 2ms/step - loss: 1.7953e-04 - accuracy: 1.0000 - val_loss: 0.2034 - val_accuracy: 0.9803\n",
      "Epoch 32/50\n",
      "105/105 [==============================] - 0s 2ms/step - loss: 1.5380e-04 - accuracy: 1.0000 - val_loss: 0.2064 - val_accuracy: 0.9803\n",
      "Epoch 33/50\n",
      "105/105 [==============================] - 0s 2ms/step - loss: 1.4586e-04 - accuracy: 1.0000 - val_loss: 0.2074 - val_accuracy: 0.9785\n",
      "Epoch 34/50\n",
      "105/105 [==============================] - 0s 2ms/step - loss: 1.8992e-04 - accuracy: 1.0000 - val_loss: 0.2115 - val_accuracy: 0.9794\n",
      "Epoch 35/50\n",
      "105/105 [==============================] - 0s 2ms/step - loss: 1.2262e-04 - accuracy: 1.0000 - val_loss: 0.2118 - val_accuracy: 0.9803\n",
      "Epoch 36/50\n",
      "105/105 [==============================] - 0s 2ms/step - loss: 1.2381e-04 - accuracy: 1.0000 - val_loss: 0.2141 - val_accuracy: 0.9794\n",
      "Epoch 37/50\n",
      "105/105 [==============================] - 0s 2ms/step - loss: 9.9346e-05 - accuracy: 1.0000 - val_loss: 0.2152 - val_accuracy: 0.9803\n",
      "Epoch 38/50\n",
      "105/105 [==============================] - 0s 2ms/step - loss: 1.0401e-04 - accuracy: 1.0000 - val_loss: 0.2162 - val_accuracy: 0.9803\n",
      "Epoch 39/50\n",
      "105/105 [==============================] - 0s 2ms/step - loss: 9.1250e-05 - accuracy: 1.0000 - val_loss: 0.2178 - val_accuracy: 0.9794\n",
      "Epoch 40/50\n",
      "105/105 [==============================] - 0s 2ms/step - loss: 8.9525e-05 - accuracy: 1.0000 - val_loss: 0.2196 - val_accuracy: 0.9803\n",
      "Epoch 41/50\n",
      "105/105 [==============================] - 0s 2ms/step - loss: 1.0010e-04 - accuracy: 1.0000 - val_loss: 0.2211 - val_accuracy: 0.9803\n",
      "Epoch 42/50\n",
      "105/105 [==============================] - 0s 2ms/step - loss: 7.3394e-05 - accuracy: 1.0000 - val_loss: 0.2223 - val_accuracy: 0.9776\n",
      "Epoch 43/50\n",
      "105/105 [==============================] - 0s 2ms/step - loss: 7.8190e-05 - accuracy: 1.0000 - val_loss: 0.2236 - val_accuracy: 0.9776\n",
      "Epoch 44/50\n",
      "105/105 [==============================] - 0s 2ms/step - loss: 8.0348e-05 - accuracy: 1.0000 - val_loss: 0.2261 - val_accuracy: 0.9803\n",
      "Epoch 45/50\n",
      "105/105 [==============================] - 0s 2ms/step - loss: 6.4193e-05 - accuracy: 1.0000 - val_loss: 0.2279 - val_accuracy: 0.9794\n",
      "Epoch 46/50\n",
      "105/105 [==============================] - 0s 2ms/step - loss: 5.6616e-05 - accuracy: 1.0000 - val_loss: 0.2286 - val_accuracy: 0.9785\n",
      "Epoch 47/50\n",
      "105/105 [==============================] - 0s 2ms/step - loss: 6.2267e-05 - accuracy: 1.0000 - val_loss: 0.2314 - val_accuracy: 0.9803\n",
      "Epoch 48/50\n",
      "105/105 [==============================] - 0s 2ms/step - loss: 5.0713e-05 - accuracy: 1.0000 - val_loss: 0.2335 - val_accuracy: 0.9794\n",
      "Epoch 49/50\n",
      "105/105 [==============================] - 0s 2ms/step - loss: 4.9059e-05 - accuracy: 1.0000 - val_loss: 0.2346 - val_accuracy: 0.9794\n",
      "Epoch 50/50\n",
      "105/105 [==============================] - 0s 2ms/step - loss: 4.2585e-05 - accuracy: 1.0000 - val_loss: 0.2374 - val_accuracy: 0.9794\n",
      "35/35 [==============================] - 0s 1ms/step - loss: 0.2374 - accuracy: 0.9794\n"
     ]
    },
    {
     "data": {
      "text/plain": [
       "[0.2374074012041092, 0.9793722033500671]"
      ]
     },
     "execution_count": 26,
     "metadata": {},
     "output_type": "execute_result"
    }
   ],
   "source": [
    "# Changing the number of epochs\n",
    "\n",
    "# fitting a dense spam detector model\n",
    "model.compile(loss='binary_crossentropy',optimizer='adam' ,metrics=['accuracy'])\n",
    "fit_model = model.fit(train_pad, y_train, epochs=50, validation_data=(val_pad, y_val))\n",
    "# Model performance on validation data \n",
    "model.evaluate(val_pad, y_val)"
   ]
  },
  {
   "cell_type": "markdown",
   "id": "9aaee6e4",
   "metadata": {},
   "source": [
    "As we can see the best accuracy is observed for Adam and number of epochs 30, so we predict the model on the test data."
   ]
  },
  {
   "cell_type": "code",
   "execution_count": 27,
   "id": "dbe4b5fb",
   "metadata": {},
   "outputs": [
    {
     "name": "stdout",
     "output_type": "stream",
     "text": [
      "Epoch 1/30\n",
      "105/105 [==============================] - 1s 3ms/step - loss: 7.4345e-05 - accuracy: 1.0000 - val_loss: 0.1738 - val_accuracy: 0.9803\n",
      "Epoch 2/30\n",
      "105/105 [==============================] - 0s 2ms/step - loss: 3.5348e-05 - accuracy: 1.0000 - val_loss: 0.1769 - val_accuracy: 0.9794\n",
      "Epoch 3/30\n",
      "105/105 [==============================] - 0s 2ms/step - loss: 6.1679e-05 - accuracy: 1.0000 - val_loss: 0.1786 - val_accuracy: 0.9812\n",
      "Epoch 4/30\n",
      "105/105 [==============================] - 0s 2ms/step - loss: 1.0862e-04 - accuracy: 1.0000 - val_loss: 0.1840 - val_accuracy: 0.9785\n",
      "Epoch 5/30\n",
      "105/105 [==============================] - 0s 2ms/step - loss: 3.1740e-05 - accuracy: 1.0000 - val_loss: 0.1880 - val_accuracy: 0.9794\n",
      "Epoch 6/30\n",
      "105/105 [==============================] - 0s 2ms/step - loss: 2.0286e-05 - accuracy: 1.0000 - val_loss: 0.1860 - val_accuracy: 0.9803\n",
      "Epoch 7/30\n",
      "105/105 [==============================] - 0s 2ms/step - loss: 3.4199e-05 - accuracy: 1.0000 - val_loss: 0.1877 - val_accuracy: 0.9794\n",
      "Epoch 8/30\n",
      "105/105 [==============================] - 0s 2ms/step - loss: 1.9160e-05 - accuracy: 1.0000 - val_loss: 0.1893 - val_accuracy: 0.9785\n",
      "Epoch 9/30\n",
      "105/105 [==============================] - 0s 2ms/step - loss: 2.0152e-05 - accuracy: 1.0000 - val_loss: 0.1898 - val_accuracy: 0.9803\n",
      "Epoch 10/30\n",
      "105/105 [==============================] - 0s 2ms/step - loss: 1.8475e-05 - accuracy: 1.0000 - val_loss: 0.1909 - val_accuracy: 0.9803\n",
      "Epoch 11/30\n",
      "105/105 [==============================] - 0s 2ms/step - loss: 1.4999e-05 - accuracy: 1.0000 - val_loss: 0.1919 - val_accuracy: 0.9803\n",
      "Epoch 12/30\n",
      "105/105 [==============================] - 0s 2ms/step - loss: 1.9586e-05 - accuracy: 1.0000 - val_loss: 0.1938 - val_accuracy: 0.9803\n",
      "Epoch 13/30\n",
      "105/105 [==============================] - 0s 2ms/step - loss: 1.3420e-05 - accuracy: 1.0000 - val_loss: 0.1962 - val_accuracy: 0.9794\n",
      "Epoch 14/30\n",
      "105/105 [==============================] - 0s 2ms/step - loss: 1.2758e-05 - accuracy: 1.0000 - val_loss: 0.1970 - val_accuracy: 0.9794\n",
      "Epoch 15/30\n",
      "105/105 [==============================] - 0s 2ms/step - loss: 1.2384e-05 - accuracy: 1.0000 - val_loss: 0.1979 - val_accuracy: 0.9794\n",
      "Epoch 16/30\n",
      "105/105 [==============================] - 0s 2ms/step - loss: 1.1474e-05 - accuracy: 1.0000 - val_loss: 0.1995 - val_accuracy: 0.9794\n",
      "Epoch 17/30\n",
      "105/105 [==============================] - 0s 2ms/step - loss: 8.6901e-06 - accuracy: 1.0000 - val_loss: 0.2003 - val_accuracy: 0.9794\n",
      "Epoch 18/30\n",
      "105/105 [==============================] - 0s 2ms/step - loss: 8.7206e-06 - accuracy: 1.0000 - val_loss: 0.2037 - val_accuracy: 0.9794\n",
      "Epoch 19/30\n",
      "105/105 [==============================] - 0s 2ms/step - loss: 9.6661e-06 - accuracy: 1.0000 - val_loss: 0.2051 - val_accuracy: 0.9803\n",
      "Epoch 20/30\n",
      "105/105 [==============================] - 0s 2ms/step - loss: 8.7232e-06 - accuracy: 1.0000 - val_loss: 0.2049 - val_accuracy: 0.9794\n",
      "Epoch 21/30\n",
      "105/105 [==============================] - 0s 2ms/step - loss: 7.3211e-06 - accuracy: 1.0000 - val_loss: 0.2059 - val_accuracy: 0.9794\n",
      "Epoch 22/30\n",
      "105/105 [==============================] - 0s 2ms/step - loss: 6.5191e-06 - accuracy: 1.0000 - val_loss: 0.2068 - val_accuracy: 0.9794\n",
      "Epoch 23/30\n",
      "105/105 [==============================] - 0s 2ms/step - loss: 6.6164e-06 - accuracy: 1.0000 - val_loss: 0.2092 - val_accuracy: 0.9785\n",
      "Epoch 24/30\n",
      "105/105 [==============================] - 0s 2ms/step - loss: 6.1447e-06 - accuracy: 1.0000 - val_loss: 0.2095 - val_accuracy: 0.9803\n",
      "Epoch 25/30\n",
      "105/105 [==============================] - 0s 2ms/step - loss: 5.8762e-06 - accuracy: 1.0000 - val_loss: 0.2105 - val_accuracy: 0.9794\n",
      "Epoch 26/30\n",
      "105/105 [==============================] - 0s 2ms/step - loss: 5.8541e-06 - accuracy: 1.0000 - val_loss: 0.2118 - val_accuracy: 0.9794\n",
      "Epoch 27/30\n",
      "105/105 [==============================] - 0s 2ms/step - loss: 4.9881e-06 - accuracy: 1.0000 - val_loss: 0.2130 - val_accuracy: 0.9794\n",
      "Epoch 28/30\n",
      "105/105 [==============================] - 0s 2ms/step - loss: 4.7915e-06 - accuracy: 1.0000 - val_loss: 0.2160 - val_accuracy: 0.9794\n",
      "Epoch 29/30\n",
      "105/105 [==============================] - 0s 2ms/step - loss: 4.6324e-06 - accuracy: 1.0000 - val_loss: 0.2159 - val_accuracy: 0.9794\n",
      "Epoch 30/30\n",
      "105/105 [==============================] - 0s 2ms/step - loss: 5.1184e-06 - accuracy: 1.0000 - val_loss: 0.2176 - val_accuracy: 0.9794\n",
      "35/35 [==============================] - 0s 1ms/step - loss: 0.2176 - accuracy: 0.9794\n"
     ]
    }
   ],
   "source": [
    "# fitting the model \n",
    "model.compile(loss='binary_crossentropy',optimizer='adam' ,metrics=['accuracy'])\n",
    "fit_model = model.fit(train_pad, y_train, epochs=30, validation_data=(test_pad, y_test))\n",
    "\n",
    "# Model performance on test data \n",
    "results = model.evaluate(test_pad, y_test)"
   ]
  },
  {
   "cell_type": "code",
   "execution_count": 28,
   "id": "a3ca274f",
   "metadata": {},
   "outputs": [
    {
     "name": "stdout",
     "output_type": "stream",
     "text": [
      "Neural Network gives us an accuracy of : 0.9793722033500671\n"
     ]
    }
   ],
   "source": [
    "print(\"Neural Network gives us an accuracy of :\", results[1])"
   ]
  },
  {
   "cell_type": "code",
   "execution_count": null,
   "id": "695b6299",
   "metadata": {},
   "outputs": [],
   "source": []
  }
 ],
 "metadata": {
  "kernelspec": {
   "display_name": "Python 3",
   "language": "python",
   "name": "python3"
  },
  "language_info": {
   "codemirror_mode": {
    "name": "ipython",
    "version": 3
   },
   "file_extension": ".py",
   "mimetype": "text/x-python",
   "name": "python",
   "nbconvert_exporter": "python",
   "pygments_lexer": "ipython3",
   "version": "3.10.2"
  },
  "vscode": {
   "interpreter": {
    "hash": "a00628f37e87a1a19a7105c48b2a71dbeab4ab6b4c640dca59b8449dc9d95d85"
   }
  }
 },
 "nbformat": 4,
 "nbformat_minor": 5
}
